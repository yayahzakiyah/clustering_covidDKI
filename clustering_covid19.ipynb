{
 "cells": [
  {
   "cell_type": "markdown",
   "id": "64aa0fb1",
   "metadata": {},
   "source": [
    "**Clustering of Covid Patients by Region on DKI Jakarta**"
   ]
  },
  {
   "cell_type": "code",
   "execution_count": 39,
   "id": "1a5f8118",
   "metadata": {},
   "outputs": [],
   "source": [
    "#import libraries\n",
    "import pandas as pd\n",
    "import numpy as np\n",
    "import matplotlib.pyplot as plt\n",
    "from sklearn.cluster import KMeans\n",
    "import scipy.stats as stats"
   ]
  },
  {
   "cell_type": "code",
   "execution_count": 40,
   "id": "58799f9e",
   "metadata": {},
   "outputs": [
    {
     "data": {
      "text/html": [
       "<div>\n",
       "<style scoped>\n",
       "    .dataframe tbody tr th:only-of-type {\n",
       "        vertical-align: middle;\n",
       "    }\n",
       "\n",
       "    .dataframe tbody tr th {\n",
       "        vertical-align: top;\n",
       "    }\n",
       "\n",
       "    .dataframe thead th {\n",
       "        text-align: right;\n",
       "    }\n",
       "</style>\n",
       "<table border=\"1\" class=\"dataframe\">\n",
       "  <thead>\n",
       "    <tr style=\"text-align: right;\">\n",
       "      <th></th>\n",
       "      <th>ID_KEL</th>\n",
       "      <th>Nama_provinsi</th>\n",
       "      <th>nama_kota</th>\n",
       "      <th>nama_kecamatan</th>\n",
       "      <th>nama_kelurahan</th>\n",
       "      <th>SUSPEK</th>\n",
       "      <th>Perawatan RS</th>\n",
       "      <th>Isolasi di Rumah</th>\n",
       "      <th>Suspek Meninggal</th>\n",
       "      <th>Selesai Isolasi</th>\n",
       "      <th>...</th>\n",
       "      <th>DISCARDED</th>\n",
       "      <th>Isolasi di Rumah.4</th>\n",
       "      <th>Meninggal Discarded</th>\n",
       "      <th>Selesai Isolasi.4</th>\n",
       "      <th>Positif</th>\n",
       "      <th>Dirawat</th>\n",
       "      <th>Sembuh</th>\n",
       "      <th>Meninggal</th>\n",
       "      <th>Self Isolation</th>\n",
       "      <th>Keterangan</th>\n",
       "    </tr>\n",
       "  </thead>\n",
       "  <tbody>\n",
       "    <tr>\n",
       "      <th>0</th>\n",
       "      <td>3172051003</td>\n",
       "      <td>DKI JAKARTA</td>\n",
       "      <td>JAKARTA UTARA</td>\n",
       "      <td>PADEMANGAN</td>\n",
       "      <td>ANCOL</td>\n",
       "      <td>NaN</td>\n",
       "      <td>NaN</td>\n",
       "      <td>NaN</td>\n",
       "      <td>NaN</td>\n",
       "      <td>NaN</td>\n",
       "      <td>...</td>\n",
       "      <td>NaN</td>\n",
       "      <td>NaN</td>\n",
       "      <td>NaN</td>\n",
       "      <td>NaN</td>\n",
       "      <td>2031</td>\n",
       "      <td>15</td>\n",
       "      <td>1938</td>\n",
       "      <td>27</td>\n",
       "      <td>51</td>\n",
       "      <td>NaN</td>\n",
       "    </tr>\n",
       "    <tr>\n",
       "      <th>1</th>\n",
       "      <td>3173041007</td>\n",
       "      <td>DKI JAKARTA</td>\n",
       "      <td>JAKARTA BARAT</td>\n",
       "      <td>TAMBORA</td>\n",
       "      <td>ANGKE</td>\n",
       "      <td>NaN</td>\n",
       "      <td>NaN</td>\n",
       "      <td>NaN</td>\n",
       "      <td>NaN</td>\n",
       "      <td>NaN</td>\n",
       "      <td>...</td>\n",
       "      <td>NaN</td>\n",
       "      <td>NaN</td>\n",
       "      <td>NaN</td>\n",
       "      <td>NaN</td>\n",
       "      <td>1950</td>\n",
       "      <td>17</td>\n",
       "      <td>1829</td>\n",
       "      <td>34</td>\n",
       "      <td>70</td>\n",
       "      <td>NaN</td>\n",
       "    </tr>\n",
       "    <tr>\n",
       "      <th>2</th>\n",
       "      <td>3175041005</td>\n",
       "      <td>DKI JAKARTA</td>\n",
       "      <td>JAKARTA TIMUR</td>\n",
       "      <td>KRAMAT JATI</td>\n",
       "      <td>BALE KAMBANG</td>\n",
       "      <td>NaN</td>\n",
       "      <td>NaN</td>\n",
       "      <td>NaN</td>\n",
       "      <td>NaN</td>\n",
       "      <td>NaN</td>\n",
       "      <td>...</td>\n",
       "      <td>NaN</td>\n",
       "      <td>NaN</td>\n",
       "      <td>NaN</td>\n",
       "      <td>NaN</td>\n",
       "      <td>2194</td>\n",
       "      <td>2</td>\n",
       "      <td>2113</td>\n",
       "      <td>34</td>\n",
       "      <td>45</td>\n",
       "      <td>NaN</td>\n",
       "    </tr>\n",
       "    <tr>\n",
       "      <th>3</th>\n",
       "      <td>3175031003</td>\n",
       "      <td>DKI JAKARTA</td>\n",
       "      <td>JAKARTA TIMUR</td>\n",
       "      <td>JATINEGARA</td>\n",
       "      <td>BALI MESTER</td>\n",
       "      <td>NaN</td>\n",
       "      <td>NaN</td>\n",
       "      <td>NaN</td>\n",
       "      <td>NaN</td>\n",
       "      <td>NaN</td>\n",
       "      <td>...</td>\n",
       "      <td>NaN</td>\n",
       "      <td>NaN</td>\n",
       "      <td>NaN</td>\n",
       "      <td>NaN</td>\n",
       "      <td>894</td>\n",
       "      <td>6</td>\n",
       "      <td>853</td>\n",
       "      <td>18</td>\n",
       "      <td>17</td>\n",
       "      <td>NaN</td>\n",
       "    </tr>\n",
       "    <tr>\n",
       "      <th>4</th>\n",
       "      <td>3175101006</td>\n",
       "      <td>DKI JAKARTA</td>\n",
       "      <td>JAKARTA TIMUR</td>\n",
       "      <td>CIPAYUNG</td>\n",
       "      <td>BAMBU APUS</td>\n",
       "      <td>NaN</td>\n",
       "      <td>NaN</td>\n",
       "      <td>NaN</td>\n",
       "      <td>NaN</td>\n",
       "      <td>NaN</td>\n",
       "      <td>...</td>\n",
       "      <td>NaN</td>\n",
       "      <td>NaN</td>\n",
       "      <td>NaN</td>\n",
       "      <td>NaN</td>\n",
       "      <td>3095</td>\n",
       "      <td>6</td>\n",
       "      <td>2998</td>\n",
       "      <td>31</td>\n",
       "      <td>60</td>\n",
       "      <td>NaN</td>\n",
       "    </tr>\n",
       "    <tr>\n",
       "      <th>5</th>\n",
       "      <td>3174031002</td>\n",
       "      <td>DKI JAKARTA</td>\n",
       "      <td>JAKARTA SELATAN</td>\n",
       "      <td>MAMPANG PRAPATAN</td>\n",
       "      <td>BANGKA</td>\n",
       "      <td>NaN</td>\n",
       "      <td>NaN</td>\n",
       "      <td>NaN</td>\n",
       "      <td>NaN</td>\n",
       "      <td>NaN</td>\n",
       "      <td>...</td>\n",
       "      <td>NaN</td>\n",
       "      <td>NaN</td>\n",
       "      <td>NaN</td>\n",
       "      <td>NaN</td>\n",
       "      <td>2013</td>\n",
       "      <td>9</td>\n",
       "      <td>1936</td>\n",
       "      <td>28</td>\n",
       "      <td>40</td>\n",
       "      <td>NaN</td>\n",
       "    </tr>\n",
       "    <tr>\n",
       "      <th>6</th>\n",
       "      <td>3175051002</td>\n",
       "      <td>DKI JAKARTA</td>\n",
       "      <td>JAKARTA TIMUR</td>\n",
       "      <td>PASAR REBO</td>\n",
       "      <td>BARU</td>\n",
       "      <td>NaN</td>\n",
       "      <td>NaN</td>\n",
       "      <td>NaN</td>\n",
       "      <td>NaN</td>\n",
       "      <td>NaN</td>\n",
       "      <td>...</td>\n",
       "      <td>NaN</td>\n",
       "      <td>NaN</td>\n",
       "      <td>NaN</td>\n",
       "      <td>NaN</td>\n",
       "      <td>2739</td>\n",
       "      <td>14</td>\n",
       "      <td>2654</td>\n",
       "      <td>41</td>\n",
       "      <td>30</td>\n",
       "      <td>NaN</td>\n",
       "    </tr>\n",
       "    <tr>\n",
       "      <th>7</th>\n",
       "      <td>3175041004</td>\n",
       "      <td>DKI JAKARTA</td>\n",
       "      <td>JAKARTA TIMUR</td>\n",
       "      <td>KRAMAT JATI</td>\n",
       "      <td>BATU AMPAR</td>\n",
       "      <td>NaN</td>\n",
       "      <td>NaN</td>\n",
       "      <td>NaN</td>\n",
       "      <td>NaN</td>\n",
       "      <td>NaN</td>\n",
       "      <td>...</td>\n",
       "      <td>NaN</td>\n",
       "      <td>NaN</td>\n",
       "      <td>NaN</td>\n",
       "      <td>NaN</td>\n",
       "      <td>3994</td>\n",
       "      <td>20</td>\n",
       "      <td>3778</td>\n",
       "      <td>77</td>\n",
       "      <td>119</td>\n",
       "      <td>NaN</td>\n",
       "    </tr>\n",
       "    <tr>\n",
       "      <th>8</th>\n",
       "      <td>3171071002</td>\n",
       "      <td>DKI JAKARTA</td>\n",
       "      <td>JAKARTA PUSAT</td>\n",
       "      <td>TANAH ABANG</td>\n",
       "      <td>BENDUNGAN HILIR</td>\n",
       "      <td>NaN</td>\n",
       "      <td>NaN</td>\n",
       "      <td>NaN</td>\n",
       "      <td>NaN</td>\n",
       "      <td>NaN</td>\n",
       "      <td>...</td>\n",
       "      <td>NaN</td>\n",
       "      <td>NaN</td>\n",
       "      <td>NaN</td>\n",
       "      <td>NaN</td>\n",
       "      <td>2233</td>\n",
       "      <td>27</td>\n",
       "      <td>2074</td>\n",
       "      <td>40</td>\n",
       "      <td>92</td>\n",
       "      <td>NaN</td>\n",
       "    </tr>\n",
       "    <tr>\n",
       "      <th>9</th>\n",
       "      <td>3175031002</td>\n",
       "      <td>DKI JAKARTA</td>\n",
       "      <td>JAKARTA TIMUR</td>\n",
       "      <td>JATINEGARA</td>\n",
       "      <td>BIDARA CINA</td>\n",
       "      <td>NaN</td>\n",
       "      <td>NaN</td>\n",
       "      <td>NaN</td>\n",
       "      <td>NaN</td>\n",
       "      <td>NaN</td>\n",
       "      <td>...</td>\n",
       "      <td>NaN</td>\n",
       "      <td>NaN</td>\n",
       "      <td>NaN</td>\n",
       "      <td>NaN</td>\n",
       "      <td>3152</td>\n",
       "      <td>12</td>\n",
       "      <td>2996</td>\n",
       "      <td>63</td>\n",
       "      <td>81</td>\n",
       "      <td>NaN</td>\n",
       "    </tr>\n",
       "  </tbody>\n",
       "</table>\n",
       "<p>10 rows × 33 columns</p>\n",
       "</div>"
      ],
      "text/plain": [
       "       ID_KEL Nama_provinsi        nama_kota    nama_kecamatan  \\\n",
       "0  3172051003   DKI JAKARTA    JAKARTA UTARA        PADEMANGAN   \n",
       "1  3173041007   DKI JAKARTA    JAKARTA BARAT           TAMBORA   \n",
       "2  3175041005   DKI JAKARTA    JAKARTA TIMUR       KRAMAT JATI   \n",
       "3  3175031003   DKI JAKARTA    JAKARTA TIMUR        JATINEGARA   \n",
       "4  3175101006   DKI JAKARTA    JAKARTA TIMUR          CIPAYUNG   \n",
       "5  3174031002   DKI JAKARTA  JAKARTA SELATAN  MAMPANG PRAPATAN   \n",
       "6  3175051002   DKI JAKARTA    JAKARTA TIMUR        PASAR REBO   \n",
       "7  3175041004   DKI JAKARTA    JAKARTA TIMUR       KRAMAT JATI   \n",
       "8  3171071002   DKI JAKARTA    JAKARTA PUSAT       TANAH ABANG   \n",
       "9  3175031002   DKI JAKARTA    JAKARTA TIMUR        JATINEGARA   \n",
       "\n",
       "    nama_kelurahan  SUSPEK  Perawatan RS  Isolasi di Rumah  Suspek Meninggal  \\\n",
       "0            ANCOL     NaN           NaN               NaN               NaN   \n",
       "1            ANGKE     NaN           NaN               NaN               NaN   \n",
       "2     BALE KAMBANG     NaN           NaN               NaN               NaN   \n",
       "3      BALI MESTER     NaN           NaN               NaN               NaN   \n",
       "4       BAMBU APUS     NaN           NaN               NaN               NaN   \n",
       "5           BANGKA     NaN           NaN               NaN               NaN   \n",
       "6             BARU     NaN           NaN               NaN               NaN   \n",
       "7       BATU AMPAR     NaN           NaN               NaN               NaN   \n",
       "8  BENDUNGAN HILIR     NaN           NaN               NaN               NaN   \n",
       "9      BIDARA CINA     NaN           NaN               NaN               NaN   \n",
       "\n",
       "   Selesai Isolasi  ...  DISCARDED  Isolasi di Rumah.4  Meninggal Discarded  \\\n",
       "0              NaN  ...        NaN                 NaN                  NaN   \n",
       "1              NaN  ...        NaN                 NaN                  NaN   \n",
       "2              NaN  ...        NaN                 NaN                  NaN   \n",
       "3              NaN  ...        NaN                 NaN                  NaN   \n",
       "4              NaN  ...        NaN                 NaN                  NaN   \n",
       "5              NaN  ...        NaN                 NaN                  NaN   \n",
       "6              NaN  ...        NaN                 NaN                  NaN   \n",
       "7              NaN  ...        NaN                 NaN                  NaN   \n",
       "8              NaN  ...        NaN                 NaN                  NaN   \n",
       "9              NaN  ...        NaN                 NaN                  NaN   \n",
       "\n",
       "   Selesai Isolasi.4  Positif  Dirawat  Sembuh  Meninggal  Self Isolation  \\\n",
       "0                NaN     2031       15    1938         27              51   \n",
       "1                NaN     1950       17    1829         34              70   \n",
       "2                NaN     2194        2    2113         34              45   \n",
       "3                NaN      894        6     853         18              17   \n",
       "4                NaN     3095        6    2998         31              60   \n",
       "5                NaN     2013        9    1936         28              40   \n",
       "6                NaN     2739       14    2654         41              30   \n",
       "7                NaN     3994       20    3778         77             119   \n",
       "8                NaN     2233       27    2074         40              92   \n",
       "9                NaN     3152       12    2996         63              81   \n",
       "\n",
       "   Keterangan  \n",
       "0         NaN  \n",
       "1         NaN  \n",
       "2         NaN  \n",
       "3         NaN  \n",
       "4         NaN  \n",
       "5         NaN  \n",
       "6         NaN  \n",
       "7         NaN  \n",
       "8         NaN  \n",
       "9         NaN  \n",
       "\n",
       "[10 rows x 33 columns]"
      ]
     },
     "execution_count": 40,
     "metadata": {},
     "output_type": "execute_result"
    }
   ],
   "source": [
    "df = pd.read_csv(\"covid_kelurahan.csv\")\n",
    "df.head(10)"
   ]
  },
  {
   "cell_type": "code",
   "execution_count": 41,
   "id": "95d93444",
   "metadata": {},
   "outputs": [
    {
     "data": {
      "text/plain": [
       "ID_KEL                   0\n",
       "Nama_provinsi            0\n",
       "nama_kota                0\n",
       "nama_kecamatan           0\n",
       "nama_kelurahan           0\n",
       "SUSPEK                 269\n",
       "Perawatan RS           269\n",
       "Isolasi di Rumah       269\n",
       "Suspek Meninggal       269\n",
       "Selesai Isolasi        269\n",
       "PROBABLE               269\n",
       "Perawatan RS.1         269\n",
       "Isolasi di Rumah.1     269\n",
       "Probable Meninggal     269\n",
       "Selesai Isolasi.1      269\n",
       "PELAKU PERJALANAN      269\n",
       "Perawatan RS.2         269\n",
       "Isolasi di Rumah.2     269\n",
       "Selesai Isolasi.2      269\n",
       "KONTAK ERAT            269\n",
       "Perawatan RS.3         269\n",
       "Isolasi di Rumah.3     269\n",
       "Selesai Isolasi.3      269\n",
       "DISCARDED              269\n",
       "Isolasi di Rumah.4     269\n",
       "Meninggal Discarded    269\n",
       "Selesai Isolasi.4      269\n",
       "Positif                  0\n",
       "Dirawat                  0\n",
       "Sembuh                   0\n",
       "Meninggal                0\n",
       "Self Isolation           0\n",
       "Keterangan             269\n",
       "dtype: int64"
      ]
     },
     "execution_count": 41,
     "metadata": {},
     "output_type": "execute_result"
    }
   ],
   "source": [
    "df.isna().sum()"
   ]
  },
  {
   "cell_type": "code",
   "execution_count": 42,
   "id": "743d93e5",
   "metadata": {
    "scrolled": true
   },
   "outputs": [
    {
     "data": {
      "text/html": [
       "<div>\n",
       "<style scoped>\n",
       "    .dataframe tbody tr th:only-of-type {\n",
       "        vertical-align: middle;\n",
       "    }\n",
       "\n",
       "    .dataframe tbody tr th {\n",
       "        vertical-align: top;\n",
       "    }\n",
       "\n",
       "    .dataframe thead th {\n",
       "        text-align: right;\n",
       "    }\n",
       "</style>\n",
       "<table border=\"1\" class=\"dataframe\">\n",
       "  <thead>\n",
       "    <tr style=\"text-align: right;\">\n",
       "      <th></th>\n",
       "      <th>nama_kelurahan</th>\n",
       "      <th>Positif</th>\n",
       "      <th>Sembuh</th>\n",
       "      <th>Meninggal</th>\n",
       "    </tr>\n",
       "  </thead>\n",
       "  <tbody>\n",
       "    <tr>\n",
       "      <th>0</th>\n",
       "      <td>ANCOL</td>\n",
       "      <td>2031</td>\n",
       "      <td>1938</td>\n",
       "      <td>27</td>\n",
       "    </tr>\n",
       "    <tr>\n",
       "      <th>1</th>\n",
       "      <td>ANGKE</td>\n",
       "      <td>1950</td>\n",
       "      <td>1829</td>\n",
       "      <td>34</td>\n",
       "    </tr>\n",
       "    <tr>\n",
       "      <th>2</th>\n",
       "      <td>BALE KAMBANG</td>\n",
       "      <td>2194</td>\n",
       "      <td>2113</td>\n",
       "      <td>34</td>\n",
       "    </tr>\n",
       "    <tr>\n",
       "      <th>3</th>\n",
       "      <td>BALI MESTER</td>\n",
       "      <td>894</td>\n",
       "      <td>853</td>\n",
       "      <td>18</td>\n",
       "    </tr>\n",
       "    <tr>\n",
       "      <th>4</th>\n",
       "      <td>BAMBU APUS</td>\n",
       "      <td>3095</td>\n",
       "      <td>2998</td>\n",
       "      <td>31</td>\n",
       "    </tr>\n",
       "    <tr>\n",
       "      <th>...</th>\n",
       "      <td>...</td>\n",
       "      <td>...</td>\n",
       "      <td>...</td>\n",
       "      <td>...</td>\n",
       "    </tr>\n",
       "    <tr>\n",
       "      <th>264</th>\n",
       "      <td>UTAN KAYU SELATAN</td>\n",
       "      <td>3784</td>\n",
       "      <td>3612</td>\n",
       "      <td>72</td>\n",
       "    </tr>\n",
       "    <tr>\n",
       "      <th>265</th>\n",
       "      <td>UTAN KAYU UTARA</td>\n",
       "      <td>2420</td>\n",
       "      <td>2271</td>\n",
       "      <td>60</td>\n",
       "    </tr>\n",
       "    <tr>\n",
       "      <th>266</th>\n",
       "      <td>UTAN PANJANG</td>\n",
       "      <td>2027</td>\n",
       "      <td>1954</td>\n",
       "      <td>36</td>\n",
       "    </tr>\n",
       "    <tr>\n",
       "      <th>267</th>\n",
       "      <td>WARAKAS</td>\n",
       "      <td>3059</td>\n",
       "      <td>2962</td>\n",
       "      <td>44</td>\n",
       "    </tr>\n",
       "    <tr>\n",
       "      <th>268</th>\n",
       "      <td>WIJAYA KUSUMA</td>\n",
       "      <td>3025</td>\n",
       "      <td>2848</td>\n",
       "      <td>48</td>\n",
       "    </tr>\n",
       "  </tbody>\n",
       "</table>\n",
       "<p>269 rows × 4 columns</p>\n",
       "</div>"
      ],
      "text/plain": [
       "        nama_kelurahan  Positif  Sembuh  Meninggal\n",
       "0                ANCOL     2031    1938         27\n",
       "1                ANGKE     1950    1829         34\n",
       "2         BALE KAMBANG     2194    2113         34\n",
       "3          BALI MESTER      894     853         18\n",
       "4           BAMBU APUS     3095    2998         31\n",
       "..                 ...      ...     ...        ...\n",
       "264  UTAN KAYU SELATAN     3784    3612         72\n",
       "265    UTAN KAYU UTARA     2420    2271         60\n",
       "266       UTAN PANJANG     2027    1954         36\n",
       "267            WARAKAS     3059    2962         44\n",
       "268      WIJAYA KUSUMA     3025    2848         48\n",
       "\n",
       "[269 rows x 4 columns]"
      ]
     },
     "execution_count": 42,
     "metadata": {},
     "output_type": "execute_result"
    }
   ],
   "source": [
    "df = df[['nama_kelurahan', 'Positif', 'Sembuh', 'Meninggal']]\n",
    "df"
   ]
  },
  {
   "cell_type": "code",
   "execution_count": 43,
   "id": "17815da3",
   "metadata": {},
   "outputs": [],
   "source": [
    "dfc = df[['Positif', 'Sembuh', 'Meninggal']]"
   ]
  },
  {
   "cell_type": "code",
   "execution_count": 44,
   "id": "1291f785",
   "metadata": {},
   "outputs": [
    {
     "data": {
      "image/png": "[encoded data removed]",
      "text/plain": [
       "<Figure size 720x504 with 1 Axes>"
      ]
     },
     "metadata": {
      "needs_background": "light"
     },
     "output_type": "display_data"
    }
   ],
   "source": [
    "fig = plt.figure(figsize =(10, 7))\n",
    " \n",
    "# Creating plot\n",
    "plt.boxplot(dfc)\n",
    " \n",
    "# show plot\n",
    "plt.show()"
   ]
  },
  {
   "cell_type": "code",
   "execution_count": 45,
   "id": "42422efc",
   "metadata": {},
   "outputs": [
    {
     "data": {
      "text/html": [
       "<div>\n",
       "<style scoped>\n",
       "    .dataframe tbody tr th:only-of-type {\n",
       "        vertical-align: middle;\n",
       "    }\n",
       "\n",
       "    .dataframe tbody tr th {\n",
       "        vertical-align: top;\n",
       "    }\n",
       "\n",
       "    .dataframe thead th {\n",
       "        text-align: right;\n",
       "    }\n",
       "</style>\n",
       "<table border=\"1\" class=\"dataframe\">\n",
       "  <thead>\n",
       "    <tr style=\"text-align: right;\">\n",
       "      <th></th>\n",
       "      <th>Positif</th>\n",
       "      <th>Sembuh</th>\n",
       "      <th>Meninggal</th>\n",
       "    </tr>\n",
       "  </thead>\n",
       "  <tbody>\n",
       "    <tr>\n",
       "      <th>0</th>\n",
       "      <td>-0.200282</td>\n",
       "      <td>-0.195508</td>\n",
       "      <td>-0.409676</td>\n",
       "    </tr>\n",
       "    <tr>\n",
       "      <th>1</th>\n",
       "      <td>-0.212346</td>\n",
       "      <td>-0.212116</td>\n",
       "      <td>-0.288517</td>\n",
       "    </tr>\n",
       "    <tr>\n",
       "      <th>2</th>\n",
       "      <td>-0.176006</td>\n",
       "      <td>-0.168843</td>\n",
       "      <td>-0.288517</td>\n",
       "    </tr>\n",
       "    <tr>\n",
       "      <th>3</th>\n",
       "      <td>-0.369620</td>\n",
       "      <td>-0.360831</td>\n",
       "      <td>-0.565452</td>\n",
       "    </tr>\n",
       "    <tr>\n",
       "      <th>4</th>\n",
       "      <td>-0.041817</td>\n",
       "      <td>-0.033995</td>\n",
       "      <td>-0.340442</td>\n",
       "    </tr>\n",
       "    <tr>\n",
       "      <th>...</th>\n",
       "      <td>...</td>\n",
       "      <td>...</td>\n",
       "      <td>...</td>\n",
       "    </tr>\n",
       "    <tr>\n",
       "      <th>264</th>\n",
       "      <td>0.060798</td>\n",
       "      <td>0.059561</td>\n",
       "      <td>0.369204</td>\n",
       "    </tr>\n",
       "    <tr>\n",
       "      <th>265</th>\n",
       "      <td>-0.142347</td>\n",
       "      <td>-0.144768</td>\n",
       "      <td>0.161503</td>\n",
       "    </tr>\n",
       "    <tr>\n",
       "      <th>266</th>\n",
       "      <td>-0.200878</td>\n",
       "      <td>-0.193070</td>\n",
       "      <td>-0.253900</td>\n",
       "    </tr>\n",
       "    <tr>\n",
       "      <th>267</th>\n",
       "      <td>-0.047179</td>\n",
       "      <td>-0.039480</td>\n",
       "      <td>-0.115432</td>\n",
       "    </tr>\n",
       "    <tr>\n",
       "      <th>268</th>\n",
       "      <td>-0.052242</td>\n",
       "      <td>-0.056850</td>\n",
       "      <td>-0.046199</td>\n",
       "    </tr>\n",
       "  </tbody>\n",
       "</table>\n",
       "<p>269 rows × 3 columns</p>\n",
       "</div>"
      ],
      "text/plain": [
       "      Positif    Sembuh  Meninggal\n",
       "0   -0.200282 -0.195508  -0.409676\n",
       "1   -0.212346 -0.212116  -0.288517\n",
       "2   -0.176006 -0.168843  -0.288517\n",
       "3   -0.369620 -0.360831  -0.565452\n",
       "4   -0.041817 -0.033995  -0.340442\n",
       "..        ...       ...        ...\n",
       "264  0.060798  0.059561   0.369204\n",
       "265 -0.142347 -0.144768   0.161503\n",
       "266 -0.200878 -0.193070  -0.253900\n",
       "267 -0.047179 -0.039480  -0.115432\n",
       "268 -0.052242 -0.056850  -0.046199\n",
       "\n",
       "[269 rows x 3 columns]"
      ]
     },
     "execution_count": 45,
     "metadata": {},
     "output_type": "execute_result"
    }
   ],
   "source": [
    "z_score = dfc.apply(stats.zscore)\n",
    "z_score"
   ]
  },
  {
   "cell_type": "markdown",
   "id": "9c568b1c",
   "metadata": {},
   "source": [
    "**Outlier**"
   ]
  },
  {
   "cell_type": "code",
   "execution_count": 46,
   "id": "6afffbc4",
   "metadata": {},
   "outputs": [
    {
     "data": {
      "text/html": [
       "<div>\n",
       "<style scoped>\n",
       "    .dataframe tbody tr th:only-of-type {\n",
       "        vertical-align: middle;\n",
       "    }\n",
       "\n",
       "    .dataframe tbody tr th {\n",
       "        vertical-align: top;\n",
       "    }\n",
       "\n",
       "    .dataframe thead th {\n",
       "        text-align: right;\n",
       "    }\n",
       "</style>\n",
       "<table border=\"1\" class=\"dataframe\">\n",
       "  <thead>\n",
       "    <tr style=\"text-align: right;\">\n",
       "      <th></th>\n",
       "      <th>Positif</th>\n",
       "      <th>Sembuh</th>\n",
       "      <th>Meninggal</th>\n",
       "    </tr>\n",
       "  </thead>\n",
       "  <tbody>\n",
       "    <tr>\n",
       "      <th>144</th>\n",
       "      <td>13.688518</td>\n",
       "      <td>13.825831</td>\n",
       "      <td>9.888845</td>\n",
       "    </tr>\n",
       "    <tr>\n",
       "      <th>203</th>\n",
       "      <td>8.213273</td>\n",
       "      <td>8.014551</td>\n",
       "      <td>10.633108</td>\n",
       "    </tr>\n",
       "  </tbody>\n",
       "</table>\n",
       "</div>"
      ],
      "text/plain": [
       "       Positif     Sembuh  Meninggal\n",
       "144  13.688518  13.825831   9.888845\n",
       "203   8.213273   8.014551  10.633108"
      ]
     },
     "execution_count": 46,
     "metadata": {},
     "output_type": "execute_result"
    }
   ],
   "source": [
    "z_score[((z_score['Positif'] > 3) | (z_score['Positif'] < -3)) | ((z_score['Sembuh'] > 3) | (z_score['Meninggal'] < -3)) | ((z_score['Sembuh'] > 3) | (z_score['Meninggal'] < -3))]"
   ]
  },
  {
   "cell_type": "code",
   "execution_count": 47,
   "id": "879db4ed",
   "metadata": {},
   "outputs": [],
   "source": [
    "z_bersih = z_score.drop(z_score.index[[144, 203]])"
   ]
  },
  {
   "cell_type": "code",
   "execution_count": 48,
   "id": "0affb992",
   "metadata": {},
   "outputs": [
    {
     "data": {
      "text/html": [
       "<div>\n",
       "<style scoped>\n",
       "    .dataframe tbody tr th:only-of-type {\n",
       "        vertical-align: middle;\n",
       "    }\n",
       "\n",
       "    .dataframe tbody tr th {\n",
       "        vertical-align: top;\n",
       "    }\n",
       "\n",
       "    .dataframe thead th {\n",
       "        text-align: right;\n",
       "    }\n",
       "</style>\n",
       "<table border=\"1\" class=\"dataframe\">\n",
       "  <thead>\n",
       "    <tr style=\"text-align: right;\">\n",
       "      <th></th>\n",
       "      <th>Positif</th>\n",
       "      <th>Sembuh</th>\n",
       "      <th>Meninggal</th>\n",
       "    </tr>\n",
       "  </thead>\n",
       "  <tbody>\n",
       "    <tr>\n",
       "      <th>0</th>\n",
       "      <td>-0.200282</td>\n",
       "      <td>-0.195508</td>\n",
       "      <td>-0.409676</td>\n",
       "    </tr>\n",
       "    <tr>\n",
       "      <th>1</th>\n",
       "      <td>-0.212346</td>\n",
       "      <td>-0.212116</td>\n",
       "      <td>-0.288517</td>\n",
       "    </tr>\n",
       "    <tr>\n",
       "      <th>2</th>\n",
       "      <td>-0.176006</td>\n",
       "      <td>-0.168843</td>\n",
       "      <td>-0.288517</td>\n",
       "    </tr>\n",
       "    <tr>\n",
       "      <th>3</th>\n",
       "      <td>-0.369620</td>\n",
       "      <td>-0.360831</td>\n",
       "      <td>-0.565452</td>\n",
       "    </tr>\n",
       "    <tr>\n",
       "      <th>4</th>\n",
       "      <td>-0.041817</td>\n",
       "      <td>-0.033995</td>\n",
       "      <td>-0.340442</td>\n",
       "    </tr>\n",
       "    <tr>\n",
       "      <th>...</th>\n",
       "      <td>...</td>\n",
       "      <td>...</td>\n",
       "      <td>...</td>\n",
       "    </tr>\n",
       "    <tr>\n",
       "      <th>264</th>\n",
       "      <td>0.060798</td>\n",
       "      <td>0.059561</td>\n",
       "      <td>0.369204</td>\n",
       "    </tr>\n",
       "    <tr>\n",
       "      <th>265</th>\n",
       "      <td>-0.142347</td>\n",
       "      <td>-0.144768</td>\n",
       "      <td>0.161503</td>\n",
       "    </tr>\n",
       "    <tr>\n",
       "      <th>266</th>\n",
       "      <td>-0.200878</td>\n",
       "      <td>-0.193070</td>\n",
       "      <td>-0.253900</td>\n",
       "    </tr>\n",
       "    <tr>\n",
       "      <th>267</th>\n",
       "      <td>-0.047179</td>\n",
       "      <td>-0.039480</td>\n",
       "      <td>-0.115432</td>\n",
       "    </tr>\n",
       "    <tr>\n",
       "      <th>268</th>\n",
       "      <td>-0.052242</td>\n",
       "      <td>-0.056850</td>\n",
       "      <td>-0.046199</td>\n",
       "    </tr>\n",
       "  </tbody>\n",
       "</table>\n",
       "<p>267 rows × 3 columns</p>\n",
       "</div>"
      ],
      "text/plain": [
       "      Positif    Sembuh  Meninggal\n",
       "0   -0.200282 -0.195508  -0.409676\n",
       "1   -0.212346 -0.212116  -0.288517\n",
       "2   -0.176006 -0.168843  -0.288517\n",
       "3   -0.369620 -0.360831  -0.565452\n",
       "4   -0.041817 -0.033995  -0.340442\n",
       "..        ...       ...        ...\n",
       "264  0.060798  0.059561   0.369204\n",
       "265 -0.142347 -0.144768   0.161503\n",
       "266 -0.200878 -0.193070  -0.253900\n",
       "267 -0.047179 -0.039480  -0.115432\n",
       "268 -0.052242 -0.056850  -0.046199\n",
       "\n",
       "[267 rows x 3 columns]"
      ]
     },
     "execution_count": 48,
     "metadata": {},
     "output_type": "execute_result"
    }
   ],
   "source": [
    "z_bersih"
   ]
  },
  {
   "cell_type": "code",
   "execution_count": 49,
   "id": "a597fd8c",
   "metadata": {},
   "outputs": [
    {
     "name": "stderr",
     "output_type": "stream",
     "text": [
      "C:\\Users\\komar\\anaconda3\\lib\\site-packages\\sklearn\\cluster\\_kmeans.py:881: UserWarning:\n",
      "\n",
      "KMeans is known to have a memory leak on Windows with MKL, when there are less chunks than available threads. You can avoid it by setting the environment variable OMP_NUM_THREADS=2.\n",
      "\n"
     ]
    }
   ],
   "source": [
    "k_rng = range(1, 12)\n",
    "sse = []\n",
    "for k in k_rng:\n",
    "    km = KMeans(n_clusters=k)\n",
    "    km.fit(z_bersih)\n",
    "    sse.append(km.inertia_)"
   ]
  },
  {
   "cell_type": "code",
   "execution_count": 50,
   "id": "a9485445",
   "metadata": {},
   "outputs": [
    {
     "data": {
      "text/plain": [
       "[80.76729581364238,\n",
       " 31.495325156533195,\n",
       " 18.13871566574518,\n",
       " 11.370953938504599,\n",
       " 7.9690378477380515,\n",
       " 6.754660524878841,\n",
       " 5.62508337460114,\n",
       " 4.806523801257051,\n",
       " 4.193316299169547,\n",
       " 3.768189515079098,\n",
       " 3.318223702244921]"
      ]
     },
     "execution_count": 50,
     "metadata": {},
     "output_type": "execute_result"
    }
   ],
   "source": [
    "sse"
   ]
  },
  {
   "cell_type": "code",
   "execution_count": 51,
   "id": "20a3b4c2",
   "metadata": {},
   "outputs": [
    {
     "data": {
      "text/plain": [
       "[<matplotlib.lines.Line2D at 0x1db1c5378e0>]"
      ]
     },
     "execution_count": 51,
     "metadata": {},
     "output_type": "execute_result"
    },
    {
     "data": {
      "image/png": "[encoded data removed]",
      "text/plain": [
       "<Figure size 432x288 with 1 Axes>"
      ]
     },
     "metadata": {
      "needs_background": "light"
     },
     "output_type": "display_data"
    }
   ],
   "source": [
    "plt.xlabel('K')\n",
    "plt.ylabel('Sum of squared error')\n",
    "plt.plot(k_rng, sse)"
   ]
  },
  {
   "cell_type": "code",
   "execution_count": 52,
   "id": "84e6ce21",
   "metadata": {},
   "outputs": [
    {
     "data": {
      "text/plain": [
       "array([1, 1, 1, 3, 1, 1, 1, 0, 1, 0, 0, 1, 3, 1, 1, 1, 1, 0, 0, 1, 2, 2,\n",
       "       0, 1, 0, 0, 3, 3, 0, 1, 1, 0, 1, 1, 1, 1, 1, 0, 1, 1, 1, 0, 2, 1,\n",
       "       2, 1, 2, 1, 0, 0, 3, 3, 3, 3, 3, 1, 0, 0, 3, 3, 3, 1, 1, 0, 3, 1,\n",
       "       1, 1, 0, 1, 2, 0, 0, 1, 0, 1, 0, 1, 3, 3, 1, 0, 3, 1, 0, 0, 2, 1,\n",
       "       3, 3, 3, 3, 0, 2, 1, 1, 3, 1, 3, 3, 1, 1, 0, 3, 0, 0, 1, 1, 0, 2,\n",
       "       1, 3, 1, 1, 1, 0, 3, 1, 1, 1, 1, 0, 0, 0, 0, 1, 1, 0, 3, 3, 2, 1,\n",
       "       1, 1, 1, 0, 3, 3, 3, 3, 3, 0, 0, 0, 0, 0, 0, 0, 1, 3, 1, 3, 1, 3,\n",
       "       3, 3, 1, 1, 1, 1, 0, 1, 0, 0, 1, 2, 1, 1, 3, 1, 1, 1, 0, 1, 0, 2,\n",
       "       0, 2, 1, 1, 0, 1, 2, 0, 1, 1, 3, 3, 3, 1, 0, 1, 3, 1, 1, 0, 2, 2,\n",
       "       0, 0, 0, 3, 3, 3, 3, 3, 3, 3, 3, 1, 2, 0, 1, 1, 1, 3, 0, 3, 1, 3,\n",
       "       0, 1, 3, 1, 3, 1, 0, 1, 3, 3, 0, 3, 3, 1, 0, 0, 1, 1, 1, 1, 1, 2,\n",
       "       2, 0, 3, 3, 3, 1, 3, 0, 1, 1, 1, 1, 1, 0, 1, 1, 1, 2, 1, 0, 0, 1,\n",
       "       1, 1, 1])"
      ]
     },
     "execution_count": 52,
     "metadata": {},
     "output_type": "execute_result"
    }
   ],
   "source": [
    "km = KMeans(n_clusters=4)\n",
    "y_predicted = km.fit_predict(z_bersih)\n",
    "y_predicted"
   ]
  },
  {
   "cell_type": "code",
   "execution_count": 53,
   "id": "1061eda7",
   "metadata": {},
   "outputs": [
    {
     "data": {
      "text/plain": [
       "array([[ 0.10432341,  0.0999749 ,  0.27714298],\n",
       "       [-0.12500566, -0.12337228, -0.17084986],\n",
       "       [ 0.33439653,  0.32477072,  0.9559599 ],\n",
       "       [-0.33652174, -0.33077538, -0.61386145]])"
      ]
     },
     "execution_count": 53,
     "metadata": {},
     "output_type": "execute_result"
    }
   ],
   "source": [
    "centroid = km.cluster_centers_\n",
    "centroid"
   ]
  },
  {
   "cell_type": "markdown",
   "id": "8a2f4649",
   "metadata": {},
   "source": [
    "Karena Index 144 dan 203 memiliki karakteristik 3 variabelnya bernilai besar, maka masuk ke cluster 2"
   ]
  },
  {
   "cell_type": "code",
   "execution_count": 54,
   "id": "c86c6fdd",
   "metadata": {},
   "outputs": [],
   "source": [
    "df1 = df.drop(df.index[[144, 203]])"
   ]
  },
  {
   "cell_type": "code",
   "execution_count": 55,
   "id": "d98e1997",
   "metadata": {},
   "outputs": [
    {
     "data": {
      "text/plain": [
       "(267, 4)"
      ]
     },
     "execution_count": 55,
     "metadata": {},
     "output_type": "execute_result"
    }
   ],
   "source": [
    "df1.shape"
   ]
  },
  {
   "cell_type": "code",
   "execution_count": 56,
   "id": "5df9b246",
   "metadata": {},
   "outputs": [],
   "source": [
    "df1['cluster'] = y_predicted"
   ]
  },
  {
   "cell_type": "code",
   "execution_count": 57,
   "id": "c0bce181",
   "metadata": {},
   "outputs": [
    {
     "data": {
      "text/html": [
       "<div>\n",
       "<style scoped>\n",
       "    .dataframe tbody tr th:only-of-type {\n",
       "        vertical-align: middle;\n",
       "    }\n",
       "\n",
       "    .dataframe tbody tr th {\n",
       "        vertical-align: top;\n",
       "    }\n",
       "\n",
       "    .dataframe thead th {\n",
       "        text-align: right;\n",
       "    }\n",
       "</style>\n",
       "<table border=\"1\" class=\"dataframe\">\n",
       "  <thead>\n",
       "    <tr style=\"text-align: right;\">\n",
       "      <th></th>\n",
       "      <th>nama_kelurahan</th>\n",
       "      <th>Positif</th>\n",
       "      <th>Sembuh</th>\n",
       "      <th>Meninggal</th>\n",
       "      <th>cluster</th>\n",
       "    </tr>\n",
       "  </thead>\n",
       "  <tbody>\n",
       "    <tr>\n",
       "      <th>0</th>\n",
       "      <td>ANCOL</td>\n",
       "      <td>2031</td>\n",
       "      <td>1938</td>\n",
       "      <td>27</td>\n",
       "      <td>1</td>\n",
       "    </tr>\n",
       "    <tr>\n",
       "      <th>1</th>\n",
       "      <td>ANGKE</td>\n",
       "      <td>1950</td>\n",
       "      <td>1829</td>\n",
       "      <td>34</td>\n",
       "      <td>1</td>\n",
       "    </tr>\n",
       "    <tr>\n",
       "      <th>2</th>\n",
       "      <td>BALE KAMBANG</td>\n",
       "      <td>2194</td>\n",
       "      <td>2113</td>\n",
       "      <td>34</td>\n",
       "      <td>1</td>\n",
       "    </tr>\n",
       "    <tr>\n",
       "      <th>3</th>\n",
       "      <td>BALI MESTER</td>\n",
       "      <td>894</td>\n",
       "      <td>853</td>\n",
       "      <td>18</td>\n",
       "      <td>3</td>\n",
       "    </tr>\n",
       "    <tr>\n",
       "      <th>4</th>\n",
       "      <td>BAMBU APUS</td>\n",
       "      <td>3095</td>\n",
       "      <td>2998</td>\n",
       "      <td>31</td>\n",
       "      <td>1</td>\n",
       "    </tr>\n",
       "    <tr>\n",
       "      <th>...</th>\n",
       "      <td>...</td>\n",
       "      <td>...</td>\n",
       "      <td>...</td>\n",
       "      <td>...</td>\n",
       "      <td>...</td>\n",
       "    </tr>\n",
       "    <tr>\n",
       "      <th>264</th>\n",
       "      <td>UTAN KAYU SELATAN</td>\n",
       "      <td>3784</td>\n",
       "      <td>3612</td>\n",
       "      <td>72</td>\n",
       "      <td>0</td>\n",
       "    </tr>\n",
       "    <tr>\n",
       "      <th>265</th>\n",
       "      <td>UTAN KAYU UTARA</td>\n",
       "      <td>2420</td>\n",
       "      <td>2271</td>\n",
       "      <td>60</td>\n",
       "      <td>1</td>\n",
       "    </tr>\n",
       "    <tr>\n",
       "      <th>266</th>\n",
       "      <td>UTAN PANJANG</td>\n",
       "      <td>2027</td>\n",
       "      <td>1954</td>\n",
       "      <td>36</td>\n",
       "      <td>1</td>\n",
       "    </tr>\n",
       "    <tr>\n",
       "      <th>267</th>\n",
       "      <td>WARAKAS</td>\n",
       "      <td>3059</td>\n",
       "      <td>2962</td>\n",
       "      <td>44</td>\n",
       "      <td>1</td>\n",
       "    </tr>\n",
       "    <tr>\n",
       "      <th>268</th>\n",
       "      <td>WIJAYA KUSUMA</td>\n",
       "      <td>3025</td>\n",
       "      <td>2848</td>\n",
       "      <td>48</td>\n",
       "      <td>1</td>\n",
       "    </tr>\n",
       "  </tbody>\n",
       "</table>\n",
       "<p>267 rows × 5 columns</p>\n",
       "</div>"
      ],
      "text/plain": [
       "        nama_kelurahan  Positif  Sembuh  Meninggal  cluster\n",
       "0                ANCOL     2031    1938         27        1\n",
       "1                ANGKE     1950    1829         34        1\n",
       "2         BALE KAMBANG     2194    2113         34        1\n",
       "3          BALI MESTER      894     853         18        3\n",
       "4           BAMBU APUS     3095    2998         31        1\n",
       "..                 ...      ...     ...        ...      ...\n",
       "264  UTAN KAYU SELATAN     3784    3612         72        0\n",
       "265    UTAN KAYU UTARA     2420    2271         60        1\n",
       "266       UTAN PANJANG     2027    1954         36        1\n",
       "267            WARAKAS     3059    2962         44        1\n",
       "268      WIJAYA KUSUMA     3025    2848         48        1\n",
       "\n",
       "[267 rows x 5 columns]"
      ]
     },
     "execution_count": 57,
     "metadata": {},
     "output_type": "execute_result"
    }
   ],
   "source": [
    "df1"
   ]
  },
  {
   "cell_type": "code",
   "execution_count": 58,
   "id": "eddd54d8",
   "metadata": {},
   "outputs": [
    {
     "data": {
      "text/html": [
       "<div>\n",
       "<style scoped>\n",
       "    .dataframe tbody tr th:only-of-type {\n",
       "        vertical-align: middle;\n",
       "    }\n",
       "\n",
       "    .dataframe tbody tr th {\n",
       "        vertical-align: top;\n",
       "    }\n",
       "\n",
       "    .dataframe thead th {\n",
       "        text-align: right;\n",
       "    }\n",
       "</style>\n",
       "<table border=\"1\" class=\"dataframe\">\n",
       "  <thead>\n",
       "    <tr style=\"text-align: right;\">\n",
       "      <th></th>\n",
       "      <th>nama_kelurahan</th>\n",
       "      <th>Positif</th>\n",
       "      <th>Sembuh</th>\n",
       "      <th>Meninggal</th>\n",
       "    </tr>\n",
       "  </thead>\n",
       "  <tbody>\n",
       "    <tr>\n",
       "      <th>144</th>\n",
       "      <td>LUAR DKI JAKARTA</td>\n",
       "      <td>95286</td>\n",
       "      <td>93959</td>\n",
       "      <td>622</td>\n",
       "    </tr>\n",
       "    <tr>\n",
       "      <th>203</th>\n",
       "      <td>PROSES UPDATE DATA</td>\n",
       "      <td>58523</td>\n",
       "      <td>55820</td>\n",
       "      <td>665</td>\n",
       "    </tr>\n",
       "  </tbody>\n",
       "</table>\n",
       "</div>"
      ],
      "text/plain": [
       "         nama_kelurahan  Positif  Sembuh  Meninggal\n",
       "144    LUAR DKI JAKARTA    95286   93959        622\n",
       "203  PROSES UPDATE DATA    58523   55820        665"
      ]
     },
     "execution_count": 58,
     "metadata": {},
     "output_type": "execute_result"
    }
   ],
   "source": [
    "df2 = df.loc[[144, 203]]\n",
    "df2"
   ]
  },
  {
   "cell_type": "code",
   "execution_count": 59,
   "id": "6ce41379",
   "metadata": {},
   "outputs": [
    {
     "data": {
      "text/html": [
       "<div>\n",
       "<style scoped>\n",
       "    .dataframe tbody tr th:only-of-type {\n",
       "        vertical-align: middle;\n",
       "    }\n",
       "\n",
       "    .dataframe tbody tr th {\n",
       "        vertical-align: top;\n",
       "    }\n",
       "\n",
       "    .dataframe thead th {\n",
       "        text-align: right;\n",
       "    }\n",
       "</style>\n",
       "<table border=\"1\" class=\"dataframe\">\n",
       "  <thead>\n",
       "    <tr style=\"text-align: right;\">\n",
       "      <th></th>\n",
       "      <th>nama_kelurahan</th>\n",
       "      <th>Positif</th>\n",
       "      <th>Sembuh</th>\n",
       "      <th>Meninggal</th>\n",
       "      <th>cluster</th>\n",
       "    </tr>\n",
       "  </thead>\n",
       "  <tbody>\n",
       "    <tr>\n",
       "      <th>144</th>\n",
       "      <td>LUAR DKI JAKARTA</td>\n",
       "      <td>95286</td>\n",
       "      <td>93959</td>\n",
       "      <td>622</td>\n",
       "      <td>2</td>\n",
       "    </tr>\n",
       "    <tr>\n",
       "      <th>203</th>\n",
       "      <td>PROSES UPDATE DATA</td>\n",
       "      <td>58523</td>\n",
       "      <td>55820</td>\n",
       "      <td>665</td>\n",
       "      <td>2</td>\n",
       "    </tr>\n",
       "  </tbody>\n",
       "</table>\n",
       "</div>"
      ],
      "text/plain": [
       "         nama_kelurahan  Positif  Sembuh  Meninggal  cluster\n",
       "144    LUAR DKI JAKARTA    95286   93959        622        2\n",
       "203  PROSES UPDATE DATA    58523   55820        665        2"
      ]
     },
     "execution_count": 59,
     "metadata": {},
     "output_type": "execute_result"
    }
   ],
   "source": [
    "df2['cluster'] = [2, 2]\n",
    "df2"
   ]
  },
  {
   "cell_type": "code",
   "execution_count": 60,
   "id": "042775cc",
   "metadata": {},
   "outputs": [
    {
     "data": {
      "text/html": [
       "<div>\n",
       "<style scoped>\n",
       "    .dataframe tbody tr th:only-of-type {\n",
       "        vertical-align: middle;\n",
       "    }\n",
       "\n",
       "    .dataframe tbody tr th {\n",
       "        vertical-align: top;\n",
       "    }\n",
       "\n",
       "    .dataframe thead th {\n",
       "        text-align: right;\n",
       "    }\n",
       "</style>\n",
       "<table border=\"1\" class=\"dataframe\">\n",
       "  <thead>\n",
       "    <tr style=\"text-align: right;\">\n",
       "      <th></th>\n",
       "      <th>nama_kelurahan</th>\n",
       "      <th>Positif</th>\n",
       "      <th>Sembuh</th>\n",
       "      <th>Meninggal</th>\n",
       "      <th>cluster</th>\n",
       "    </tr>\n",
       "  </thead>\n",
       "  <tbody>\n",
       "    <tr>\n",
       "      <th>0</th>\n",
       "      <td>ANCOL</td>\n",
       "      <td>2031</td>\n",
       "      <td>1938</td>\n",
       "      <td>27</td>\n",
       "      <td>1</td>\n",
       "    </tr>\n",
       "    <tr>\n",
       "      <th>1</th>\n",
       "      <td>ANGKE</td>\n",
       "      <td>1950</td>\n",
       "      <td>1829</td>\n",
       "      <td>34</td>\n",
       "      <td>1</td>\n",
       "    </tr>\n",
       "    <tr>\n",
       "      <th>2</th>\n",
       "      <td>BALE KAMBANG</td>\n",
       "      <td>2194</td>\n",
       "      <td>2113</td>\n",
       "      <td>34</td>\n",
       "      <td>1</td>\n",
       "    </tr>\n",
       "    <tr>\n",
       "      <th>3</th>\n",
       "      <td>BALI MESTER</td>\n",
       "      <td>894</td>\n",
       "      <td>853</td>\n",
       "      <td>18</td>\n",
       "      <td>3</td>\n",
       "    </tr>\n",
       "    <tr>\n",
       "      <th>4</th>\n",
       "      <td>BAMBU APUS</td>\n",
       "      <td>3095</td>\n",
       "      <td>2998</td>\n",
       "      <td>31</td>\n",
       "      <td>1</td>\n",
       "    </tr>\n",
       "    <tr>\n",
       "      <th>...</th>\n",
       "      <td>...</td>\n",
       "      <td>...</td>\n",
       "      <td>...</td>\n",
       "      <td>...</td>\n",
       "      <td>...</td>\n",
       "    </tr>\n",
       "    <tr>\n",
       "      <th>266</th>\n",
       "      <td>UTAN PANJANG</td>\n",
       "      <td>2027</td>\n",
       "      <td>1954</td>\n",
       "      <td>36</td>\n",
       "      <td>1</td>\n",
       "    </tr>\n",
       "    <tr>\n",
       "      <th>267</th>\n",
       "      <td>WARAKAS</td>\n",
       "      <td>3059</td>\n",
       "      <td>2962</td>\n",
       "      <td>44</td>\n",
       "      <td>1</td>\n",
       "    </tr>\n",
       "    <tr>\n",
       "      <th>268</th>\n",
       "      <td>WIJAYA KUSUMA</td>\n",
       "      <td>3025</td>\n",
       "      <td>2848</td>\n",
       "      <td>48</td>\n",
       "      <td>1</td>\n",
       "    </tr>\n",
       "    <tr>\n",
       "      <th>144</th>\n",
       "      <td>LUAR DKI JAKARTA</td>\n",
       "      <td>95286</td>\n",
       "      <td>93959</td>\n",
       "      <td>622</td>\n",
       "      <td>2</td>\n",
       "    </tr>\n",
       "    <tr>\n",
       "      <th>203</th>\n",
       "      <td>PROSES UPDATE DATA</td>\n",
       "      <td>58523</td>\n",
       "      <td>55820</td>\n",
       "      <td>665</td>\n",
       "      <td>2</td>\n",
       "    </tr>\n",
       "  </tbody>\n",
       "</table>\n",
       "<p>269 rows × 5 columns</p>\n",
       "</div>"
      ],
      "text/plain": [
       "         nama_kelurahan  Positif  Sembuh  Meninggal  cluster\n",
       "0                 ANCOL     2031    1938         27        1\n",
       "1                 ANGKE     1950    1829         34        1\n",
       "2          BALE KAMBANG     2194    2113         34        1\n",
       "3           BALI MESTER      894     853         18        3\n",
       "4            BAMBU APUS     3095    2998         31        1\n",
       "..                  ...      ...     ...        ...      ...\n",
       "266        UTAN PANJANG     2027    1954         36        1\n",
       "267             WARAKAS     3059    2962         44        1\n",
       "268       WIJAYA KUSUMA     3025    2848         48        1\n",
       "144    LUAR DKI JAKARTA    95286   93959        622        2\n",
       "203  PROSES UPDATE DATA    58523   55820        665        2\n",
       "\n",
       "[269 rows x 5 columns]"
      ]
     },
     "execution_count": 60,
     "metadata": {},
     "output_type": "execute_result"
    }
   ],
   "source": [
    "df = pd.concat([df1, df2])\n",
    "df"
   ]
  },
  {
   "cell_type": "code",
   "execution_count": 61,
   "id": "f64fe582",
   "metadata": {},
   "outputs": [],
   "source": [
    "df.to_csv('clustering.csv')"
   ]
  },
  {
   "cell_type": "code",
   "execution_count": 62,
   "id": "6949ea33",
   "metadata": {},
   "outputs": [],
   "source": [
    "import plotly.graph_objs as go\n",
    "import plotly.express as px"
   ]
  },
  {
   "cell_type": "code",
   "execution_count": 63,
   "id": "30358eff",
   "metadata": {},
   "outputs": [
    {
     "data": {
      "application/vnd.plotly.v1+json": {
       "config": {
        "plotlyServerURL": "https://plot.ly"
       },
       "data": [
        {
         "hovertemplate": "Positif=%{x}<br>Sembuh=%{y}<br>Meninggal=%{z}<br>cluster=%{marker.color}<extra></extra>",
         "legendgroup": "",
         "marker": {
          "color": [
           1,
           1,
           1,
           3,
           1,
           1,
           1,
           0,
           1,
           0,
           0,
           1,
           3,
           1,
           1,
           1,
           1,
           0,
           0,
           1,
           2,
           2,
           0,
           1,
           0,
           0,
           3,
           3,
           0,
           1,
           1,
           0,
           1,
           1,
           1,
           1,
           1,
           0,
           1,
           1,
           1,
           0,
           2,
           1,
           2,
           1,
           2,
           1,
           0,
           0,
           3,
           3,
           3,
           3,
           3,
           1,
           0,
           0,
           3,
           3,
           3,
           1,
           1,
           0,
           3,
           1,
           1,
           1,
           0,
           1,
           2,
           0,
           0,
           1,
           0,
           1,
           0,
           1,
           3,
           3,
           1,
           0,
           3,
           1,
           0,
           0,
           2,
           1,
           3,
           3,
           3,
           3,
           0,
           2,
           1,
           1,
           3,
           1,
           3,
           3,
           1,
           1,
           0,
           3,
           0,
           0,
           1,
           1,
           0,
           2,
           1,
           3,
           1,
           1,
           1,
           0,
           3,
           1,
           1,
           1,
           1,
           0,
           0,
           0,
           0,
           1,
           1,
           0,
           3,
           3,
           2,
           1,
           1,
           1,
           1,
           0,
           3,
           3,
           3,
           3,
           3,
           0,
           0,
           0,
           0,
           0,
           0,
           0,
           1,
           3,
           1,
           3,
           1,
           3,
           3,
           3,
           1,
           1,
           1,
           1,
           0,
           1,
           0,
           0,
           1,
           2,
           1,
           1,
           3,
           1,
           1,
           1,
           0,
           1,
           0,
           2,
           0,
           2,
           1,
           1,
           0,
           1,
           2,
           0,
           1,
           1,
           3,
           3,
           3,
           1,
           0,
           1,
           3,
           1,
           1,
           0,
           2,
           2,
           0,
           0,
           0,
           3,
           3,
           3,
           3,
           3,
           3,
           3,
           3,
           1,
           2,
           0,
           1,
           1,
           1,
           3,
           0,
           3,
           1,
           3,
           0,
           1,
           3,
           1,
           3,
           1,
           0,
           1,
           3,
           3,
           0,
           3,
           3,
           1,
           0,
           0,
           1,
           1,
           1,
           1,
           1,
           2,
           2,
           0,
           3,
           3,
           3,
           1,
           3,
           0,
           1,
           1,
           1,
           1,
           1,
           0,
           1,
           1,
           1,
           2,
           1,
           0,
           0,
           1,
           1,
           1,
           1
          ],
          "coloraxis": "coloraxis",
          "symbol": "circle"
         },
         "mode": "markers",
         "name": "",
         "scene": "scene",
         "showlegend": false,
         "type": "scatter3d",
         "x": [
          2031,
          1950,
          2194,
          894,
          3095,
          2013,
          2739,
          3994,
          2233,
          3152,
          4096,
          2485,
          1501,
          2154,
          2976,
          3269,
          2162,
          3163,
          4288,
          3218,
          5869,
          6262,
          6137,
          1839,
          4157,
          3999,
          777,
          1206,
          5684,
          2995,
          3379,
          3602,
          2604,
          3644,
          3466,
          2560,
          2949,
          3721,
          2682,
          2848,
          2675,
          3546,
          5017,
          2830,
          5956,
          2175,
          5657,
          2572,
          4640,
          5016,
          1603,
          980,
          1440,
          1190,
          1279,
          2135,
          3611,
          3403,
          541,
          887,
          725,
          2455,
          3149,
          3198,
          465,
          2446,
          2092,
          1876,
          4371,
          2020,
          6794,
          3071,
          3539,
          1892,
          4257,
          1716,
          3571,
          3448,
          1724,
          1467,
          3702,
          4191,
          1283,
          1805,
          4173,
          4929,
          4547,
          1675,
          1037,
          809,
          1548,
          1553,
          3541,
          6800,
          3049,
          2105,
          1084,
          3130,
          434,
          1801,
          2105,
          2460,
          4182,
          1358,
          3661,
          3670,
          3136,
          2848,
          4059,
          5354,
          1774,
          1041,
          3373,
          1715,
          2067,
          4071,
          1044,
          2263,
          2620,
          3360,
          2314,
          4650,
          4402,
          4334,
          3202,
          2750,
          2453,
          3820,
          1223,
          1299,
          4738,
          2092,
          1828,
          1735,
          2112,
          3490,
          1122,
          1533,
          1032,
          1883,
          1312,
          3776,
          4160,
          4285,
          5836,
          3648,
          3210,
          2953,
          2261,
          899,
          2137,
          1862,
          2047,
          1402,
          1234,
          503,
          2210,
          2687,
          3269,
          3254,
          3968,
          2824,
          5278,
          6203,
          1742,
          5706,
          2142,
          2387,
          1796,
          2121,
          3091,
          2659,
          4757,
          2067,
          4704,
          6371,
          3592,
          3936,
          3365,
          1916,
          4237,
          2283,
          5732,
          5055,
          2543,
          2510,
          1155,
          1781,
          1541,
          2978,
          4172,
          2409,
          876,
          2630,
          3459,
          4530,
          5739,
          5638,
          2604,
          4011,
          5036,
          2829,
          90,
          170,
          382,
          248,
          318,
          139,
          766,
          2713,
          5252,
          3884,
          3055,
          2556,
          2333,
          633,
          3725,
          1374,
          2608,
          1048,
          3772,
          3426,
          293,
          2420,
          434,
          2744,
          4469,
          2345,
          975,
          1036,
          2966,
          690,
          2039,
          2255,
          3982,
          5315,
          2237,
          2989,
          2962,
          2468,
          2221,
          6231,
          6310,
          3375,
          1533,
          889,
          2199,
          2260,
          1230,
          3387,
          3028,
          2172,
          2522,
          3118,
          2215,
          4672,
          2572,
          2628,
          2480,
          4512,
          1868,
          3324,
          3784,
          2420,
          2027,
          3059,
          3025
         ],
         "y": [
          1938,
          1829,
          2113,
          853,
          2998,
          1936,
          2654,
          3778,
          2074,
          2996,
          3867,
          2374,
          1425,
          2095,
          2859,
          3178,
          2072,
          2989,
          4085,
          3067,
          5552,
          5952,
          5917,
          1741,
          4024,
          3847,
          708,
          1131,
          5392,
          2874,
          3295,
          3443,
          2507,
          3545,
          3328,
          2414,
          2800,
          3558,
          2577,
          2745,
          2546,
          3360,
          4804,
          2686,
          5717,
          2088,
          5389,
          2435,
          4223,
          4770,
          1472,
          879,
          1308,
          1107,
          1235,
          2032,
          3417,
          3256,
          523,
          801,
          683,
          2296,
          2977,
          3016,
          447,
          2349,
          1961,
          1732,
          4187,
          1915,
          6565,
          2880,
          3399,
          1747,
          4097,
          1655,
          3355,
          3235,
          1588,
          1362,
          3564,
          3960,
          1173,
          1718,
          3972,
          4703,
          4366,
          1596,
          965,
          735,
          1491,
          1459,
          3387,
          6425,
          2804,
          1924,
          1031,
          2968,
          411,
          1695,
          1909,
          2352,
          3964,
          1251,
          3520,
          3485,
          2984,
          2658,
          3923,
          5079,
          1622,
          985,
          3226,
          1642,
          1949,
          3913,
          991,
          2139,
          2439,
          3129,
          2196,
          4478,
          4107,
          4070,
          3020,
          2619,
          2309,
          3595,
          1167,
          1191,
          4507,
          2018,
          1743,
          1623,
          1978,
          3353,
          1068,
          1418,
          995,
          1835,
          1221,
          3614,
          3958,
          4137,
          5676,
          3498,
          3050,
          2815,
          2139,
          838,
          1967,
          1793,
          1952,
          1294,
          1196,
          470,
          2071,
          2559,
          3081,
          3126,
          3772,
          2752,
          5003,
          5925,
          1656,
          5405,
          2037,
          2255,
          1646,
          2011,
          2917,
          2547,
          4458,
          1944,
          4408,
          6025,
          3428,
          3724,
          3276,
          1795,
          3956,
          2177,
          5501,
          4717,
          2424,
          2372,
          1092,
          1692,
          1444,
          2836,
          3979,
          2324,
          814,
          2514,
          3339,
          4168,
          5478,
          5350,
          2482,
          3821,
          4780,
          2770,
          86,
          169,
          379,
          246,
          312,
          136,
          722,
          2583,
          5038,
          3716,
          2920,
          2462,
          2229,
          596,
          3512,
          1323,
          2486,
          1006,
          3592,
          3296,
          278,
          2349,
          401,
          2621,
          4308,
          2265,
          949,
          979,
          2807,
          641,
          1966,
          2144,
          3807,
          5140,
          2135,
          2857,
          2821,
          2322,
          2151,
          5817,
          6027,
          3239,
          1413,
          793,
          2020,
          2091,
          1148,
          3183,
          2812,
          2027,
          2435,
          2932,
          2047,
          4485,
          2434,
          2475,
          2341,
          4330,
          1785,
          3177,
          3612,
          2271,
          1954,
          2962,
          2848
         ],
         "z": [
          27,
          34,
          34,
          18,
          31,
          28,
          41,
          77,
          40,
          63,
          82,
          33,
          26,
          27,
          55,
          42,
          30,
          66,
          76,
          54,
          107,
          108,
          75,
          31,
          54,
          84,
          15,
          13,
          67,
          32,
          31,
          70,
          55,
          39,
          50,
          48,
          51,
          76,
          44,
          57,
          54,
          70,
          113,
          54,
          113,
          37,
          109,
          37,
          73,
          79,
          29,
          19,
          24,
          22,
          13,
          32,
          53,
          65,
          7,
          18,
          8,
          41,
          50,
          59,
          7,
          25,
          35,
          38,
          52,
          41,
          100,
          59,
          59,
          49,
          74,
          36,
          53,
          40,
          27,
          20,
          41,
          64,
          24,
          48,
          77,
          84,
          89,
          39,
          9,
          17,
          18,
          30,
          74,
          170,
          28,
          38,
          11,
          44,
          6,
          24,
          36,
          40,
          62,
          13,
          64,
          72,
          54,
          57,
          58,
          87,
          41,
          12,
          51,
          31,
          41,
          74,
          16,
          37,
          52,
          51,
          35,
          69,
          61,
          63,
          61,
          44,
          26,
          65,
          20,
          20,
          107,
          38,
          35,
          34,
          45,
          68,
          10,
          16,
          9,
          9,
          24,
          83,
          54,
          65,
          69,
          62,
          60,
          68,
          33,
          14,
          36,
          26,
          40,
          28,
          20,
          5,
          33,
          50,
          51,
          46,
          59,
          36,
          78,
          59,
          30,
          120,
          32,
          37,
          25,
          49,
          51,
          38,
          60,
          49,
          69,
          79,
          55,
          93,
          47,
          33,
          66,
          38,
          107,
          69,
          34,
          53,
          15,
          25,
          24,
          34,
          49,
          40,
          10,
          46,
          48,
          46,
          109,
          98,
          63,
          60,
          74,
          18,
          3,
          1,
          2,
          2,
          6,
          2,
          10,
          46,
          103,
          73,
          54,
          43,
          43,
          8,
          62,
          16,
          30,
          20,
          75,
          38,
          8,
          39,
          6,
          54,
          83,
          46,
          2,
          16,
          59,
          7,
          14,
          30,
          66,
          81,
          34,
          45,
          50,
          44,
          26,
          111,
          101,
          69,
          22,
          22,
          23,
          42,
          19,
          56,
          47,
          33,
          48,
          38,
          35,
          80,
          43,
          36,
          38,
          94,
          28,
          55,
          72,
          60,
          36,
          44,
          48
         ]
        }
       ],
       "layout": {
        "coloraxis": {
         "colorbar": {
          "title": {
           "text": "cluster"
          }
         },
         "colorscale": [
          [
           0,
           "#0d0887"
          ],
          [
           0.1111111111111111,
           "#46039f"
          ],
          [
           0.2222222222222222,
           "#7201a8"
          ],
          [
           0.3333333333333333,
           "#9c179e"
          ],
          [
           0.4444444444444444,
           "#bd3786"
          ],
          [
           0.5555555555555556,
           "#d8576b"
          ],
          [
           0.6666666666666666,
           "#ed7953"
          ],
          [
           0.7777777777777778,
           "#fb9f3a"
          ],
          [
           0.8888888888888888,
           "#fdca26"
          ],
          [
           1,
           "#f0f921"
          ]
         ]
        },
        "legend": {
         "tracegroupgap": 0
        },
        "margin": {
         "t": 60
        },
        "scene": {
         "domain": {
          "x": [
           0,
           1
          ],
          "y": [
           0,
           1
          ]
         },
         "xaxis": {
          "title": {
           "text": "Positif"
          }
         },
         "yaxis": {
          "title": {
           "text": "Sembuh"
          }
         },
         "zaxis": {
          "title": {
           "text": "Meninggal"
          }
         }
        },
        "template": {
         "data": {
          "bar": [
           {
            "error_x": {
             "color": "#2a3f5f"
            },
            "error_y": {
             "color": "#2a3f5f"
            },
            "marker": {
             "line": {
              "color": "#E5ECF6",
              "width": 0.5
             },
             "pattern": {
              "fillmode": "overlay",
              "size": 10,
              "solidity": 0.2
             }
            },
            "type": "bar"
           }
          ],
          "barpolar": [
           {
            "marker": {
             "line": {
              "color": "#E5ECF6",
              "width": 0.5
             },
             "pattern": {
              "fillmode": "overlay",
              "size": 10,
              "solidity": 0.2
             }
            },
            "type": "barpolar"
           }
          ],
          "carpet": [
           {
            "aaxis": {
             "endlinecolor": "#2a3f5f",
             "gridcolor": "white",
             "linecolor": "white",
             "minorgridcolor": "white",
             "startlinecolor": "#2a3f5f"
            },
            "baxis": {
             "endlinecolor": "#2a3f5f",
             "gridcolor": "white",
             "linecolor": "white",
             "minorgridcolor": "white",
             "startlinecolor": "#2a3f5f"
            },
            "type": "carpet"
           }
          ],
          "choropleth": [
           {
            "colorbar": {
             "outlinewidth": 0,
             "ticks": ""
            },
            "type": "choropleth"
           }
          ],
          "contour": [
           {
            "colorbar": {
             "outlinewidth": 0,
             "ticks": ""
            },
            "colorscale": [
             [
              0,
              "#0d0887"
             ],
             [
              0.1111111111111111,
              "#46039f"
             ],
             [
              0.2222222222222222,
              "#7201a8"
             ],
             [
              0.3333333333333333,
              "#9c179e"
             ],
             [
              0.4444444444444444,
              "#bd3786"
             ],
             [
              0.5555555555555556,
              "#d8576b"
             ],
             [
              0.6666666666666666,
              "#ed7953"
             ],
             [
              0.7777777777777778,
              "#fb9f3a"
             ],
             [
              0.8888888888888888,
              "#fdca26"
             ],
             [
              1,
              "#f0f921"
             ]
            ],
            "type": "contour"
           }
          ],
          "contourcarpet": [
           {
            "colorbar": {
             "outlinewidth": 0,
             "ticks": ""
            },
            "type": "contourcarpet"
           }
          ],
          "heatmap": [
           {
            "colorbar": {
             "outlinewidth": 0,
             "ticks": ""
            },
            "colorscale": [
             [
              0,
              "#0d0887"
             ],
             [
              0.1111111111111111,
              "#46039f"
             ],
             [
              0.2222222222222222,
              "#7201a8"
             ],
             [
              0.3333333333333333,
              "#9c179e"
             ],
             [
              0.4444444444444444,
              "#bd3786"
             ],
             [
              0.5555555555555556,
              "#d8576b"
             ],
             [
              0.6666666666666666,
              "#ed7953"
             ],
             [
              0.7777777777777778,
              "#fb9f3a"
             ],
             [
              0.8888888888888888,
              "#fdca26"
             ],
             [
              1,
              "#f0f921"
             ]
            ],
            "type": "heatmap"
           }
          ],
          "heatmapgl": [
           {
            "colorbar": {
             "outlinewidth": 0,
             "ticks": ""
            },
            "colorscale": [
             [
              0,
              "#0d0887"
             ],
             [
              0.1111111111111111,
              "#46039f"
             ],
             [
              0.2222222222222222,
              "#7201a8"
             ],
             [
              0.3333333333333333,
              "#9c179e"
             ],
             [
              0.4444444444444444,
              "#bd3786"
             ],
             [
              0.5555555555555556,
              "#d8576b"
             ],
             [
              0.6666666666666666,
              "#ed7953"
             ],
             [
              0.7777777777777778,
              "#fb9f3a"
             ],
             [
              0.8888888888888888,
              "#fdca26"
             ],
             [
              1,
              "#f0f921"
             ]
            ],
            "type": "heatmapgl"
           }
          ],
          "histogram": [
           {
            "marker": {
             "pattern": {
              "fillmode": "overlay",
              "size": 10,
              "solidity": 0.2
             }
            },
            "type": "histogram"
           }
          ],
          "histogram2d": [
           {
            "colorbar": {
             "outlinewidth": 0,
             "ticks": ""
            },
            "colorscale": [
             [
              0,
              "#0d0887"
             ],
             [
              0.1111111111111111,
              "#46039f"
             ],
             [
              0.2222222222222222,
              "#7201a8"
             ],
             [
              0.3333333333333333,
              "#9c179e"
             ],
             [
              0.4444444444444444,
              "#bd3786"
             ],
             [
              0.5555555555555556,
              "#d8576b"
             ],
             [
              0.6666666666666666,
              "#ed7953"
             ],
             [
              0.7777777777777778,
              "#fb9f3a"
             ],
             [
              0.8888888888888888,
              "#fdca26"
             ],
             [
              1,
              "#f0f921"
             ]
            ],
            "type": "histogram2d"
           }
          ],
          "histogram2dcontour": [
           {
            "colorbar": {
             "outlinewidth": 0,
             "ticks": ""
            },
            "colorscale": [
             [
              0,
              "#0d0887"
             ],
             [
              0.1111111111111111,
              "#46039f"
             ],
             [
              0.2222222222222222,
              "#7201a8"
             ],
             [
              0.3333333333333333,
              "#9c179e"
             ],
             [
              0.4444444444444444,
              "#bd3786"
             ],
             [
              0.5555555555555556,
              "#d8576b"
             ],
             [
              0.6666666666666666,
              "#ed7953"
             ],
             [
              0.7777777777777778,
              "#fb9f3a"
             ],
             [
              0.8888888888888888,
              "#fdca26"
             ],
             [
              1,
              "#f0f921"
             ]
            ],
            "type": "histogram2dcontour"
           }
          ],
          "mesh3d": [
           {
            "colorbar": {
             "outlinewidth": 0,
             "ticks": ""
            },
            "type": "mesh3d"
           }
          ],
          "parcoords": [
           {
            "line": {
             "colorbar": {
              "outlinewidth": 0,
              "ticks": ""
             }
            },
            "type": "parcoords"
           }
          ],
          "pie": [
           {
            "automargin": true,
            "type": "pie"
           }
          ],
          "scatter": [
           {
            "marker": {
             "colorbar": {
              "outlinewidth": 0,
              "ticks": ""
             }
            },
            "type": "scatter"
           }
          ],
          "scatter3d": [
           {
            "line": {
             "colorbar": {
              "outlinewidth": 0,
              "ticks": ""
             }
            },
            "marker": {
             "colorbar": {
              "outlinewidth": 0,
              "ticks": ""
             }
            },
            "type": "scatter3d"
           }
          ],
          "scattercarpet": [
           {
            "marker": {
             "colorbar": {
              "outlinewidth": 0,
              "ticks": ""
             }
            },
            "type": "scattercarpet"
           }
          ],
          "scattergeo": [
           {
            "marker": {
             "colorbar": {
              "outlinewidth": 0,
              "ticks": ""
             }
            },
            "type": "scattergeo"
           }
          ],
          "scattergl": [
           {
            "marker": {
             "colorbar": {
              "outlinewidth": 0,
              "ticks": ""
             }
            },
            "type": "scattergl"
           }
          ],
          "scattermapbox": [
           {
            "marker": {
             "colorbar": {
              "outlinewidth": 0,
              "ticks": ""
             }
            },
            "type": "scattermapbox"
           }
          ],
          "scatterpolar": [
           {
            "marker": {
             "colorbar": {
              "outlinewidth": 0,
              "ticks": ""
             }
            },
            "type": "scatterpolar"
           }
          ],
          "scatterpolargl": [
           {
            "marker": {
             "colorbar": {
              "outlinewidth": 0,
              "ticks": ""
             }
            },
            "type": "scatterpolargl"
           }
          ],
          "scatterternary": [
           {
            "marker": {
             "colorbar": {
              "outlinewidth": 0,
              "ticks": ""
             }
            },
            "type": "scatterternary"
           }
          ],
          "surface": [
           {
            "colorbar": {
             "outlinewidth": 0,
             "ticks": ""
            },
            "colorscale": [
             [
              0,
              "#0d0887"
             ],
             [
              0.1111111111111111,
              "#46039f"
             ],
             [
              0.2222222222222222,
              "#7201a8"
             ],
             [
              0.3333333333333333,
              "#9c179e"
             ],
             [
              0.4444444444444444,
              "#bd3786"
             ],
             [
              0.5555555555555556,
              "#d8576b"
             ],
             [
              0.6666666666666666,
              "#ed7953"
             ],
             [
              0.7777777777777778,
              "#fb9f3a"
             ],
             [
              0.8888888888888888,
              "#fdca26"
             ],
             [
              1,
              "#f0f921"
             ]
            ],
            "type": "surface"
           }
          ],
          "table": [
           {
            "cells": {
             "fill": {
              "color": "#EBF0F8"
             },
             "line": {
              "color": "white"
             }
            },
            "header": {
             "fill": {
              "color": "#C8D4E3"
             },
             "line": {
              "color": "white"
             }
            },
            "type": "table"
           }
          ]
         },
         "layout": {
          "annotationdefaults": {
           "arrowcolor": "#2a3f5f",
           "arrowhead": 0,
           "arrowwidth": 1
          },
          "autotypenumbers": "strict",
          "coloraxis": {
           "colorbar": {
            "outlinewidth": 0,
            "ticks": ""
           }
          },
          "colorscale": {
           "diverging": [
            [
             0,
             "#8e0152"
            ],
            [
             0.1,
             "#c51b7d"
            ],
            [
             0.2,
             "#de77ae"
            ],
            [
             0.3,
             "#f1b6da"
            ],
            [
             0.4,
             "#fde0ef"
            ],
            [
             0.5,
             "#f7f7f7"
            ],
            [
             0.6,
             "#e6f5d0"
            ],
            [
             0.7,
             "#b8e186"
            ],
            [
             0.8,
             "#7fbc41"
            ],
            [
             0.9,
             "#4d9221"
            ],
            [
             1,
             "#276419"
            ]
           ],
           "sequential": [
            [
             0,
             "#0d0887"
            ],
            [
             0.1111111111111111,
             "#46039f"
            ],
            [
             0.2222222222222222,
             "#7201a8"
            ],
            [
             0.3333333333333333,
             "#9c179e"
            ],
            [
             0.4444444444444444,
             "#bd3786"
            ],
            [
             0.5555555555555556,
             "#d8576b"
            ],
            [
             0.6666666666666666,
             "#ed7953"
            ],
            [
             0.7777777777777778,
             "#fb9f3a"
            ],
            [
             0.8888888888888888,
             "#fdca26"
            ],
            [
             1,
             "#f0f921"
            ]
           ],
           "sequentialminus": [
            [
             0,
             "#0d0887"
            ],
            [
             0.1111111111111111,
             "#46039f"
            ],
            [
             0.2222222222222222,
             "#7201a8"
            ],
            [
             0.3333333333333333,
             "#9c179e"
            ],
            [
             0.4444444444444444,
             "#bd3786"
            ],
            [
             0.5555555555555556,
             "#d8576b"
            ],
            [
             0.6666666666666666,
             "#ed7953"
            ],
            [
             0.7777777777777778,
             "#fb9f3a"
            ],
            [
             0.8888888888888888,
             "#fdca26"
            ],
            [
             1,
             "#f0f921"
            ]
           ]
          },
          "colorway": [
           "#636efa",
           "#EF553B",
           "#00cc96",
           "#ab63fa",
           "#FFA15A",
           "#19d3f3",
           "#FF6692",
           "#B6E880",
           "#FF97FF",
           "#FECB52"
          ],
          "font": {
           "color": "#2a3f5f"
          },
          "geo": {
           "bgcolor": "white",
           "lakecolor": "white",
           "landcolor": "#E5ECF6",
           "showlakes": true,
           "showland": true,
           "subunitcolor": "white"
          },
          "hoverlabel": {
           "align": "left"
          },
          "hovermode": "closest",
          "mapbox": {
           "style": "light"
          },
          "paper_bgcolor": "white",
          "plot_bgcolor": "#E5ECF6",
          "polar": {
           "angularaxis": {
            "gridcolor": "white",
            "linecolor": "white",
            "ticks": ""
           },
           "bgcolor": "#E5ECF6",
           "radialaxis": {
            "gridcolor": "white",
            "linecolor": "white",
            "ticks": ""
           }
          },
          "scene": {
           "xaxis": {
            "backgroundcolor": "#E5ECF6",
            "gridcolor": "white",
            "gridwidth": 2,
            "linecolor": "white",
            "showbackground": true,
            "ticks": "",
            "zerolinecolor": "white"
           },
           "yaxis": {
            "backgroundcolor": "#E5ECF6",
            "gridcolor": "white",
            "gridwidth": 2,
            "linecolor": "white",
            "showbackground": true,
            "ticks": "",
            "zerolinecolor": "white"
           },
           "zaxis": {
            "backgroundcolor": "#E5ECF6",
            "gridcolor": "white",
            "gridwidth": 2,
            "linecolor": "white",
            "showbackground": true,
            "ticks": "",
            "zerolinecolor": "white"
           }
          },
          "shapedefaults": {
           "line": {
            "color": "#2a3f5f"
           }
          },
          "ternary": {
           "aaxis": {
            "gridcolor": "white",
            "linecolor": "white",
            "ticks": ""
           },
           "baxis": {
            "gridcolor": "white",
            "linecolor": "white",
            "ticks": ""
           },
           "bgcolor": "#E5ECF6",
           "caxis": {
            "gridcolor": "white",
            "linecolor": "white",
            "ticks": ""
           }
          },
          "title": {
           "x": 0.05
          },
          "xaxis": {
           "automargin": true,
           "gridcolor": "white",
           "linecolor": "white",
           "ticks": "",
           "title": {
            "standoff": 15
           },
           "zerolinecolor": "white",
           "zerolinewidth": 2
          },
          "yaxis": {
           "automargin": true,
           "gridcolor": "white",
           "linecolor": "white",
           "ticks": "",
           "title": {
            "standoff": 15
           },
           "zerolinecolor": "white",
           "zerolinewidth": 2
          }
         }
        }
       }
      },
      "text/html": [
       "<div>                            <div id=\"4bbfb6aa-650e-4cf8-ae00-3455ff075203\" class=\"plotly-graph-div\" style=\"height:525px; width:100%;\"></div>            <script type=\"text/javascript\">                require([\"plotly\"], function(Plotly) {                    window.PLOTLYENV=window.PLOTLYENV || {};                                    if (document.getElementById(\"4bbfb6aa-650e-4cf8-ae00-3455ff075203\")) {                    Plotly.newPlot(                        \"4bbfb6aa-650e-4cf8-ae00-3455ff075203\",                        [{\"hovertemplate\":\"Positif=%{x}<br>Sembuh=%{y}<br>Meninggal=%{z}<br>cluster=%{marker.color}<extra></extra>\",\"legendgroup\":\"\",\"marker\":{\"color\":[1,1,1,3,1,1,1,0,1,0,0,1,3,1,1,1,1,0,0,1,2,2,0,1,0,0,3,3,0,1,1,0,1,1,1,1,1,0,1,1,1,0,2,1,2,1,2,1,0,0,3,3,3,3,3,1,0,0,3,3,3,1,1,0,3,1,1,1,0,1,2,0,0,1,0,1,0,1,3,3,1,0,3,1,0,0,2,1,3,3,3,3,0,2,1,1,3,1,3,3,1,1,0,3,0,0,1,1,0,2,1,3,1,1,1,0,3,1,1,1,1,0,0,0,0,1,1,0,3,3,2,1,1,1,1,0,3,3,3,3,3,0,0,0,0,0,0,0,1,3,1,3,1,3,3,3,1,1,1,1,0,1,0,0,1,2,1,1,3,1,1,1,0,1,0,2,0,2,1,1,0,1,2,0,1,1,3,3,3,1,0,1,3,1,1,0,2,2,0,0,0,3,3,3,3,3,3,3,3,1,2,0,1,1,1,3,0,3,1,3,0,1,3,1,3,1,0,1,3,3,0,3,3,1,0,0,1,1,1,1,1,2,2,0,3,3,3,1,3,0,1,1,1,1,1,0,1,1,1,2,1,0,0,1,1,1,1],\"coloraxis\":\"coloraxis\",\"symbol\":\"circle\"},\"mode\":\"markers\",\"name\":\"\",\"scene\":\"scene\",\"showlegend\":false,\"x\":[2031,1950,2194,894,3095,2013,2739,3994,2233,3152,4096,2485,1501,2154,2976,3269,2162,3163,4288,3218,5869,6262,6137,1839,4157,3999,777,1206,5684,2995,3379,3602,2604,3644,3466,2560,2949,3721,2682,2848,2675,3546,5017,2830,5956,2175,5657,2572,4640,5016,1603,980,1440,1190,1279,2135,3611,3403,541,887,725,2455,3149,3198,465,2446,2092,1876,4371,2020,6794,3071,3539,1892,4257,1716,3571,3448,1724,1467,3702,4191,1283,1805,4173,4929,4547,1675,1037,809,1548,1553,3541,6800,3049,2105,1084,3130,434,1801,2105,2460,4182,1358,3661,3670,3136,2848,4059,5354,1774,1041,3373,1715,2067,4071,1044,2263,2620,3360,2314,4650,4402,4334,3202,2750,2453,3820,1223,1299,4738,2092,1828,1735,2112,3490,1122,1533,1032,1883,1312,3776,4160,4285,5836,3648,3210,2953,2261,899,2137,1862,2047,1402,1234,503,2210,2687,3269,3254,3968,2824,5278,6203,1742,5706,2142,2387,1796,2121,3091,2659,4757,2067,4704,6371,3592,3936,3365,1916,4237,2283,5732,5055,2543,2510,1155,1781,1541,2978,4172,2409,876,2630,3459,4530,5739,5638,2604,4011,5036,2829,90,170,382,248,318,139,766,2713,5252,3884,3055,2556,2333,633,3725,1374,2608,1048,3772,3426,293,2420,434,2744,4469,2345,975,1036,2966,690,2039,2255,3982,5315,2237,2989,2962,2468,2221,6231,6310,3375,1533,889,2199,2260,1230,3387,3028,2172,2522,3118,2215,4672,2572,2628,2480,4512,1868,3324,3784,2420,2027,3059,3025],\"y\":[1938,1829,2113,853,2998,1936,2654,3778,2074,2996,3867,2374,1425,2095,2859,3178,2072,2989,4085,3067,5552,5952,5917,1741,4024,3847,708,1131,5392,2874,3295,3443,2507,3545,3328,2414,2800,3558,2577,2745,2546,3360,4804,2686,5717,2088,5389,2435,4223,4770,1472,879,1308,1107,1235,2032,3417,3256,523,801,683,2296,2977,3016,447,2349,1961,1732,4187,1915,6565,2880,3399,1747,4097,1655,3355,3235,1588,1362,3564,3960,1173,1718,3972,4703,4366,1596,965,735,1491,1459,3387,6425,2804,1924,1031,2968,411,1695,1909,2352,3964,1251,3520,3485,2984,2658,3923,5079,1622,985,3226,1642,1949,3913,991,2139,2439,3129,2196,4478,4107,4070,3020,2619,2309,3595,1167,1191,4507,2018,1743,1623,1978,3353,1068,1418,995,1835,1221,3614,3958,4137,5676,3498,3050,2815,2139,838,1967,1793,1952,1294,1196,470,2071,2559,3081,3126,3772,2752,5003,5925,1656,5405,2037,2255,1646,2011,2917,2547,4458,1944,4408,6025,3428,3724,3276,1795,3956,2177,5501,4717,2424,2372,1092,1692,1444,2836,3979,2324,814,2514,3339,4168,5478,5350,2482,3821,4780,2770,86,169,379,246,312,136,722,2583,5038,3716,2920,2462,2229,596,3512,1323,2486,1006,3592,3296,278,2349,401,2621,4308,2265,949,979,2807,641,1966,2144,3807,5140,2135,2857,2821,2322,2151,5817,6027,3239,1413,793,2020,2091,1148,3183,2812,2027,2435,2932,2047,4485,2434,2475,2341,4330,1785,3177,3612,2271,1954,2962,2848],\"z\":[27,34,34,18,31,28,41,77,40,63,82,33,26,27,55,42,30,66,76,54,107,108,75,31,54,84,15,13,67,32,31,70,55,39,50,48,51,76,44,57,54,70,113,54,113,37,109,37,73,79,29,19,24,22,13,32,53,65,7,18,8,41,50,59,7,25,35,38,52,41,100,59,59,49,74,36,53,40,27,20,41,64,24,48,77,84,89,39,9,17,18,30,74,170,28,38,11,44,6,24,36,40,62,13,64,72,54,57,58,87,41,12,51,31,41,74,16,37,52,51,35,69,61,63,61,44,26,65,20,20,107,38,35,34,45,68,10,16,9,9,24,83,54,65,69,62,60,68,33,14,36,26,40,28,20,5,33,50,51,46,59,36,78,59,30,120,32,37,25,49,51,38,60,49,69,79,55,93,47,33,66,38,107,69,34,53,15,25,24,34,49,40,10,46,48,46,109,98,63,60,74,18,3,1,2,2,6,2,10,46,103,73,54,43,43,8,62,16,30,20,75,38,8,39,6,54,83,46,2,16,59,7,14,30,66,81,34,45,50,44,26,111,101,69,22,22,23,42,19,56,47,33,48,38,35,80,43,36,38,94,28,55,72,60,36,44,48],\"type\":\"scatter3d\"}],                        {\"template\":{\"data\":{\"bar\":[{\"error_x\":{\"color\":\"#2a3f5f\"},\"error_y\":{\"color\":\"#2a3f5f\"},\"marker\":{\"line\":{\"color\":\"#E5ECF6\",\"width\":0.5},\"pattern\":{\"fillmode\":\"overlay\",\"size\":10,\"solidity\":0.2}},\"type\":\"bar\"}],\"barpolar\":[{\"marker\":{\"line\":{\"color\":\"#E5ECF6\",\"width\":0.5},\"pattern\":{\"fillmode\":\"overlay\",\"size\":10,\"solidity\":0.2}},\"type\":\"barpolar\"}],\"carpet\":[{\"aaxis\":{\"endlinecolor\":\"#2a3f5f\",\"gridcolor\":\"white\",\"linecolor\":\"white\",\"minorgridcolor\":\"white\",\"startlinecolor\":\"#2a3f5f\"},\"baxis\":{\"endlinecolor\":\"#2a3f5f\",\"gridcolor\":\"white\",\"linecolor\":\"white\",\"minorgridcolor\":\"white\",\"startlinecolor\":\"#2a3f5f\"},\"type\":\"carpet\"}],\"choropleth\":[{\"colorbar\":{\"outlinewidth\":0,\"ticks\":\"\"},\"type\":\"choropleth\"}],\"contour\":[{\"colorbar\":{\"outlinewidth\":0,\"ticks\":\"\"},\"colorscale\":[[0.0,\"#0d0887\"],[0.1111111111111111,\"#46039f\"],[0.2222222222222222,\"#7201a8\"],[0.3333333333333333,\"#9c179e\"],[0.4444444444444444,\"#bd3786\"],[0.5555555555555556,\"#d8576b\"],[0.6666666666666666,\"#ed7953\"],[0.7777777777777778,\"#fb9f3a\"],[0.8888888888888888,\"#fdca26\"],[1.0,\"#f0f921\"]],\"type\":\"contour\"}],\"contourcarpet\":[{\"colorbar\":{\"outlinewidth\":0,\"ticks\":\"\"},\"type\":\"contourcarpet\"}],\"heatmap\":[{\"colorbar\":{\"outlinewidth\":0,\"ticks\":\"\"},\"colorscale\":[[0.0,\"#0d0887\"],[0.1111111111111111,\"#46039f\"],[0.2222222222222222,\"#7201a8\"],[0.3333333333333333,\"#9c179e\"],[0.4444444444444444,\"#bd3786\"],[0.5555555555555556,\"#d8576b\"],[0.6666666666666666,\"#ed7953\"],[0.7777777777777778,\"#fb9f3a\"],[0.8888888888888888,\"#fdca26\"],[1.0,\"#f0f921\"]],\"type\":\"heatmap\"}],\"heatmapgl\":[{\"colorbar\":{\"outlinewidth\":0,\"ticks\":\"\"},\"colorscale\":[[0.0,\"#0d0887\"],[0.1111111111111111,\"#46039f\"],[0.2222222222222222,\"#7201a8\"],[0.3333333333333333,\"#9c179e\"],[0.4444444444444444,\"#bd3786\"],[0.5555555555555556,\"#d8576b\"],[0.6666666666666666,\"#ed7953\"],[0.7777777777777778,\"#fb9f3a\"],[0.8888888888888888,\"#fdca26\"],[1.0,\"#f0f921\"]],\"type\":\"heatmapgl\"}],\"histogram\":[{\"marker\":{\"pattern\":{\"fillmode\":\"overlay\",\"size\":10,\"solidity\":0.2}},\"type\":\"histogram\"}],\"histogram2d\":[{\"colorbar\":{\"outlinewidth\":0,\"ticks\":\"\"},\"colorscale\":[[0.0,\"#0d0887\"],[0.1111111111111111,\"#46039f\"],[0.2222222222222222,\"#7201a8\"],[0.3333333333333333,\"#9c179e\"],[0.4444444444444444,\"#bd3786\"],[0.5555555555555556,\"#d8576b\"],[0.6666666666666666,\"#ed7953\"],[0.7777777777777778,\"#fb9f3a\"],[0.8888888888888888,\"#fdca26\"],[1.0,\"#f0f921\"]],\"type\":\"histogram2d\"}],\"histogram2dcontour\":[{\"colorbar\":{\"outlinewidth\":0,\"ticks\":\"\"},\"colorscale\":[[0.0,\"#0d0887\"],[0.1111111111111111,\"#46039f\"],[0.2222222222222222,\"#7201a8\"],[0.3333333333333333,\"#9c179e\"],[0.4444444444444444,\"#bd3786\"],[0.5555555555555556,\"#d8576b\"],[0.6666666666666666,\"#ed7953\"],[0.7777777777777778,\"#fb9f3a\"],[0.8888888888888888,\"#fdca26\"],[1.0,\"#f0f921\"]],\"type\":\"histogram2dcontour\"}],\"mesh3d\":[{\"colorbar\":{\"outlinewidth\":0,\"ticks\":\"\"},\"type\":\"mesh3d\"}],\"parcoords\":[{\"line\":{\"colorbar\":{\"outlinewidth\":0,\"ticks\":\"\"}},\"type\":\"parcoords\"}],\"pie\":[{\"automargin\":true,\"type\":\"pie\"}],\"scatter\":[{\"marker\":{\"colorbar\":{\"outlinewidth\":0,\"ticks\":\"\"}},\"type\":\"scatter\"}],\"scatter3d\":[{\"line\":{\"colorbar\":{\"outlinewidth\":0,\"ticks\":\"\"}},\"marker\":{\"colorbar\":{\"outlinewidth\":0,\"ticks\":\"\"}},\"type\":\"scatter3d\"}],\"scattercarpet\":[{\"marker\":{\"colorbar\":{\"outlinewidth\":0,\"ticks\":\"\"}},\"type\":\"scattercarpet\"}],\"scattergeo\":[{\"marker\":{\"colorbar\":{\"outlinewidth\":0,\"ticks\":\"\"}},\"type\":\"scattergeo\"}],\"scattergl\":[{\"marker\":{\"colorbar\":{\"outlinewidth\":0,\"ticks\":\"\"}},\"type\":\"scattergl\"}],\"scattermapbox\":[{\"marker\":{\"colorbar\":{\"outlinewidth\":0,\"ticks\":\"\"}},\"type\":\"scattermapbox\"}],\"scatterpolar\":[{\"marker\":{\"colorbar\":{\"outlinewidth\":0,\"ticks\":\"\"}},\"type\":\"scatterpolar\"}],\"scatterpolargl\":[{\"marker\":{\"colorbar\":{\"outlinewidth\":0,\"ticks\":\"\"}},\"type\":\"scatterpolargl\"}],\"scatterternary\":[{\"marker\":{\"colorbar\":{\"outlinewidth\":0,\"ticks\":\"\"}},\"type\":\"scatterternary\"}],\"surface\":[{\"colorbar\":{\"outlinewidth\":0,\"ticks\":\"\"},\"colorscale\":[[0.0,\"#0d0887\"],[0.1111111111111111,\"#46039f\"],[0.2222222222222222,\"#7201a8\"],[0.3333333333333333,\"#9c179e\"],[0.4444444444444444,\"#bd3786\"],[0.5555555555555556,\"#d8576b\"],[0.6666666666666666,\"#ed7953\"],[0.7777777777777778,\"#fb9f3a\"],[0.8888888888888888,\"#fdca26\"],[1.0,\"#f0f921\"]],\"type\":\"surface\"}],\"table\":[{\"cells\":{\"fill\":{\"color\":\"#EBF0F8\"},\"line\":{\"color\":\"white\"}},\"header\":{\"fill\":{\"color\":\"#C8D4E3\"},\"line\":{\"color\":\"white\"}},\"type\":\"table\"}]},\"layout\":{\"annotationdefaults\":{\"arrowcolor\":\"#2a3f5f\",\"arrowhead\":0,\"arrowwidth\":1},\"autotypenumbers\":\"strict\",\"coloraxis\":{\"colorbar\":{\"outlinewidth\":0,\"ticks\":\"\"}},\"colorscale\":{\"diverging\":[[0,\"#8e0152\"],[0.1,\"#c51b7d\"],[0.2,\"#de77ae\"],[0.3,\"#f1b6da\"],[0.4,\"#fde0ef\"],[0.5,\"#f7f7f7\"],[0.6,\"#e6f5d0\"],[0.7,\"#b8e186\"],[0.8,\"#7fbc41\"],[0.9,\"#4d9221\"],[1,\"#276419\"]],\"sequential\":[[0.0,\"#0d0887\"],[0.1111111111111111,\"#46039f\"],[0.2222222222222222,\"#7201a8\"],[0.3333333333333333,\"#9c179e\"],[0.4444444444444444,\"#bd3786\"],[0.5555555555555556,\"#d8576b\"],[0.6666666666666666,\"#ed7953\"],[0.7777777777777778,\"#fb9f3a\"],[0.8888888888888888,\"#fdca26\"],[1.0,\"#f0f921\"]],\"sequentialminus\":[[0.0,\"#0d0887\"],[0.1111111111111111,\"#46039f\"],[0.2222222222222222,\"#7201a8\"],[0.3333333333333333,\"#9c179e\"],[0.4444444444444444,\"#bd3786\"],[0.5555555555555556,\"#d8576b\"],[0.6666666666666666,\"#ed7953\"],[0.7777777777777778,\"#fb9f3a\"],[0.8888888888888888,\"#fdca26\"],[1.0,\"#f0f921\"]]},\"colorway\":[\"#636efa\",\"#EF553B\",\"#00cc96\",\"#ab63fa\",\"#FFA15A\",\"#19d3f3\",\"#FF6692\",\"#B6E880\",\"#FF97FF\",\"#FECB52\"],\"font\":{\"color\":\"#2a3f5f\"},\"geo\":{\"bgcolor\":\"white\",\"lakecolor\":\"white\",\"landcolor\":\"#E5ECF6\",\"showlakes\":true,\"showland\":true,\"subunitcolor\":\"white\"},\"hoverlabel\":{\"align\":\"left\"},\"hovermode\":\"closest\",\"mapbox\":{\"style\":\"light\"},\"paper_bgcolor\":\"white\",\"plot_bgcolor\":\"#E5ECF6\",\"polar\":{\"angularaxis\":{\"gridcolor\":\"white\",\"linecolor\":\"white\",\"ticks\":\"\"},\"bgcolor\":\"#E5ECF6\",\"radialaxis\":{\"gridcolor\":\"white\",\"linecolor\":\"white\",\"ticks\":\"\"}},\"scene\":{\"xaxis\":{\"backgroundcolor\":\"#E5ECF6\",\"gridcolor\":\"white\",\"gridwidth\":2,\"linecolor\":\"white\",\"showbackground\":true,\"ticks\":\"\",\"zerolinecolor\":\"white\"},\"yaxis\":{\"backgroundcolor\":\"#E5ECF6\",\"gridcolor\":\"white\",\"gridwidth\":2,\"linecolor\":\"white\",\"showbackground\":true,\"ticks\":\"\",\"zerolinecolor\":\"white\"},\"zaxis\":{\"backgroundcolor\":\"#E5ECF6\",\"gridcolor\":\"white\",\"gridwidth\":2,\"linecolor\":\"white\",\"showbackground\":true,\"ticks\":\"\",\"zerolinecolor\":\"white\"}},\"shapedefaults\":{\"line\":{\"color\":\"#2a3f5f\"}},\"ternary\":{\"aaxis\":{\"gridcolor\":\"white\",\"linecolor\":\"white\",\"ticks\":\"\"},\"baxis\":{\"gridcolor\":\"white\",\"linecolor\":\"white\",\"ticks\":\"\"},\"bgcolor\":\"#E5ECF6\",\"caxis\":{\"gridcolor\":\"white\",\"linecolor\":\"white\",\"ticks\":\"\"}},\"title\":{\"x\":0.05},\"xaxis\":{\"automargin\":true,\"gridcolor\":\"white\",\"linecolor\":\"white\",\"ticks\":\"\",\"title\":{\"standoff\":15},\"zerolinecolor\":\"white\",\"zerolinewidth\":2},\"yaxis\":{\"automargin\":true,\"gridcolor\":\"white\",\"linecolor\":\"white\",\"ticks\":\"\",\"title\":{\"standoff\":15},\"zerolinecolor\":\"white\",\"zerolinewidth\":2}}},\"scene\":{\"domain\":{\"x\":[0.0,1.0],\"y\":[0.0,1.0]},\"xaxis\":{\"title\":{\"text\":\"Positif\"}},\"yaxis\":{\"title\":{\"text\":\"Sembuh\"}},\"zaxis\":{\"title\":{\"text\":\"Meninggal\"}}},\"coloraxis\":{\"colorbar\":{\"title\":{\"text\":\"cluster\"}},\"colorscale\":[[0.0,\"#0d0887\"],[0.1111111111111111,\"#46039f\"],[0.2222222222222222,\"#7201a8\"],[0.3333333333333333,\"#9c179e\"],[0.4444444444444444,\"#bd3786\"],[0.5555555555555556,\"#d8576b\"],[0.6666666666666666,\"#ed7953\"],[0.7777777777777778,\"#fb9f3a\"],[0.8888888888888888,\"#fdca26\"],[1.0,\"#f0f921\"]]},\"legend\":{\"tracegroupgap\":0},\"margin\":{\"t\":60}},                        {\"responsive\": true}                    ).then(function(){\n",
       "                            \n",
       "var gd = document.getElementById('4bbfb6aa-650e-4cf8-ae00-3455ff075203');\n",
       "var x = new MutationObserver(function (mutations, observer) {{\n",
       "        var display = window.getComputedStyle(gd).display;\n",
       "        if (!display || display === 'none') {{\n",
       "            console.log([gd, 'removed!']);\n",
       "            Plotly.purge(gd);\n",
       "            observer.disconnect();\n",
       "        }}\n",
       "}});\n",
       "\n",
       "// Listen for the removal of the full notebook cells\n",
       "var notebookContainer = gd.closest('#notebook-container');\n",
       "if (notebookContainer) {{\n",
       "    x.observe(notebookContainer, {childList: true});\n",
       "}}\n",
       "\n",
       "// Listen for the clearing of the current output cell\n",
       "var outputEl = gd.closest('.output');\n",
       "if (outputEl) {{\n",
       "    x.observe(outputEl, {childList: true});\n",
       "}}\n",
       "\n",
       "                        })                };                });            </script>        </div>"
      ]
     },
     "metadata": {},
     "output_type": "display_data"
    }
   ],
   "source": [
    "fig = px.scatter_3d(df1, x='Positif', y='Sembuh', z='Meninggal',\n",
    "              color='cluster')\n",
    "fig.show()"
   ]
  },
  {
   "cell_type": "code",
   "execution_count": 65,
   "id": "8386ede3",
   "metadata": {},
   "outputs": [
    {
     "data": {
      "application/vnd.plotly.v1+json": {
       "config": {
        "plotlyServerURL": "https://plot.ly"
       },
       "data": [
        {
         "hovertemplate": "Positif=%{x}<br>Sembuh=%{y}<br>Meninggal=%{z}<br>cluster=%{marker.color}<extra></extra>",
         "legendgroup": "",
         "marker": {
          "color": [
           1,
           1,
           1,
           3,
           1,
           1,
           1,
           0,
           1,
           0,
           0,
           1,
           3,
           1,
           1,
           1,
           1,
           0,
           0,
           1,
           2,
           2,
           0,
           1,
           0,
           0,
           3,
           3,
           0,
           1,
           1,
           0,
           1,
           1,
           1,
           1,
           1,
           0,
           1,
           1,
           1,
           0,
           2,
           1,
           2,
           1,
           2,
           1,
           0,
           0,
           3,
           3,
           3,
           3,
           3,
           1,
           0,
           0,
           3,
           3,
           3,
           1,
           1,
           0,
           3,
           1,
           1,
           1,
           0,
           1,
           2,
           0,
           0,
           1,
           0,
           1,
           0,
           1,
           3,
           3,
           1,
           0,
           3,
           1,
           0,
           0,
           2,
           1,
           3,
           3,
           3,
           3,
           0,
           2,
           1,
           1,
           3,
           1,
           3,
           3,
           1,
           1,
           0,
           3,
           0,
           0,
           1,
           1,
           0,
           2,
           1,
           3,
           1,
           1,
           1,
           0,
           3,
           1,
           1,
           1,
           1,
           0,
           0,
           0,
           0,
           1,
           1,
           0,
           3,
           3,
           2,
           1,
           1,
           1,
           1,
           0,
           3,
           3,
           3,
           3,
           3,
           0,
           0,
           0,
           0,
           0,
           0,
           0,
           1,
           3,
           1,
           3,
           1,
           3,
           3,
           3,
           1,
           1,
           1,
           1,
           0,
           1,
           0,
           0,
           1,
           2,
           1,
           1,
           3,
           1,
           1,
           1,
           0,
           1,
           0,
           2,
           0,
           2,
           1,
           1,
           0,
           1,
           2,
           0,
           1,
           1,
           3,
           3,
           3,
           1,
           0,
           1,
           3,
           1,
           1,
           0,
           2,
           2,
           0,
           0,
           0,
           3,
           3,
           3,
           3,
           3,
           3,
           3,
           3,
           1,
           2,
           0,
           1,
           1,
           1,
           3,
           0,
           3,
           1,
           3,
           0,
           1,
           3,
           1,
           3,
           1,
           0,
           1,
           3,
           3,
           0,
           3,
           3,
           1,
           0,
           0,
           1,
           1,
           1,
           1,
           1,
           2,
           2,
           0,
           3,
           3,
           3,
           1,
           3,
           0,
           1,
           1,
           1,
           1,
           1,
           0,
           1,
           1,
           1,
           2,
           1,
           0,
           0,
           1,
           1,
           1,
           1,
           2,
           2
          ],
          "coloraxis": "coloraxis",
          "symbol": "circle"
         },
         "mode": "markers",
         "name": "",
         "scene": "scene",
         "showlegend": false,
         "type": "scatter3d",
         "x": [
          2031,
          1950,
          2194,
          894,
          3095,
          2013,
          2739,
          3994,
          2233,
          3152,
          4096,
          2485,
          1501,
          2154,
          2976,
          3269,
          2162,
          3163,
          4288,
          3218,
          5869,
          6262,
          6137,
          1839,
          4157,
          3999,
          777,
          1206,
          5684,
          2995,
          3379,
          3602,
          2604,
          3644,
          3466,
          2560,
          2949,
          3721,
          2682,
          2848,
          2675,
          3546,
          5017,
          2830,
          5956,
          2175,
          5657,
          2572,
          4640,
          5016,
          1603,
          980,
          1440,
          1190,
          1279,
          2135,
          3611,
          3403,
          541,
          887,
          725,
          2455,
          3149,
          3198,
          465,
          2446,
          2092,
          1876,
          4371,
          2020,
          6794,
          3071,
          3539,
          1892,
          4257,
          1716,
          3571,
          3448,
          1724,
          1467,
          3702,
          4191,
          1283,
          1805,
          4173,
          4929,
          4547,
          1675,
          1037,
          809,
          1548,
          1553,
          3541,
          6800,
          3049,
          2105,
          1084,
          3130,
          434,
          1801,
          2105,
          2460,
          4182,
          1358,
          3661,
          3670,
          3136,
          2848,
          4059,
          5354,
          1774,
          1041,
          3373,
          1715,
          2067,
          4071,
          1044,
          2263,
          2620,
          3360,
          2314,
          4650,
          4402,
          4334,
          3202,
          2750,
          2453,
          3820,
          1223,
          1299,
          4738,
          2092,
          1828,
          1735,
          2112,
          3490,
          1122,
          1533,
          1032,
          1883,
          1312,
          3776,
          4160,
          4285,
          5836,
          3648,
          3210,
          2953,
          2261,
          899,
          2137,
          1862,
          2047,
          1402,
          1234,
          503,
          2210,
          2687,
          3269,
          3254,
          3968,
          2824,
          5278,
          6203,
          1742,
          5706,
          2142,
          2387,
          1796,
          2121,
          3091,
          2659,
          4757,
          2067,
          4704,
          6371,
          3592,
          3936,
          3365,
          1916,
          4237,
          2283,
          5732,
          5055,
          2543,
          2510,
          1155,
          1781,
          1541,
          2978,
          4172,
          2409,
          876,
          2630,
          3459,
          4530,
          5739,
          5638,
          2604,
          4011,
          5036,
          2829,
          90,
          170,
          382,
          248,
          318,
          139,
          766,
          2713,
          5252,
          3884,
          3055,
          2556,
          2333,
          633,
          3725,
          1374,
          2608,
          1048,
          3772,
          3426,
          293,
          2420,
          434,
          2744,
          4469,
          2345,
          975,
          1036,
          2966,
          690,
          2039,
          2255,
          3982,
          5315,
          2237,
          2989,
          2962,
          2468,
          2221,
          6231,
          6310,
          3375,
          1533,
          889,
          2199,
          2260,
          1230,
          3387,
          3028,
          2172,
          2522,
          3118,
          2215,
          4672,
          2572,
          2628,
          2480,
          4512,
          1868,
          3324,
          3784,
          2420,
          2027,
          3059,
          3025,
          95286,
          58523
         ],
         "y": [
          1938,
          1829,
          2113,
          853,
          2998,
          1936,
          2654,
          3778,
          2074,
          2996,
          3867,
          2374,
          1425,
          2095,
          2859,
          3178,
          2072,
          2989,
          4085,
          3067,
          5552,
          5952,
          5917,
          1741,
          4024,
          3847,
          708,
          1131,
          5392,
          2874,
          3295,
          3443,
          2507,
          3545,
          3328,
          2414,
          2800,
          3558,
          2577,
          2745,
          2546,
          3360,
          4804,
          2686,
          5717,
          2088,
          5389,
          2435,
          4223,
          4770,
          1472,
          879,
          1308,
          1107,
          1235,
          2032,
          3417,
          3256,
          523,
          801,
          683,
          2296,
          2977,
          3016,
          447,
          2349,
          1961,
          1732,
          4187,
          1915,
          6565,
          2880,
          3399,
          1747,
          4097,
          1655,
          3355,
          3235,
          1588,
          1362,
          3564,
          3960,
          1173,
          1718,
          3972,
          4703,
          4366,
          1596,
          965,
          735,
          1491,
          1459,
          3387,
          6425,
          2804,
          1924,
          1031,
          2968,
          411,
          1695,
          1909,
          2352,
          3964,
          1251,
          3520,
          3485,
          2984,
          2658,
          3923,
          5079,
          1622,
          985,
          3226,
          1642,
          1949,
          3913,
          991,
          2139,
          2439,
          3129,
          2196,
          4478,
          4107,
          4070,
          3020,
          2619,
          2309,
          3595,
          1167,
          1191,
          4507,
          2018,
          1743,
          1623,
          1978,
          3353,
          1068,
          1418,
          995,
          1835,
          1221,
          3614,
          3958,
          4137,
          5676,
          3498,
          3050,
          2815,
          2139,
          838,
          1967,
          1793,
          1952,
          1294,
          1196,
          470,
          2071,
          2559,
          3081,
          3126,
          3772,
          2752,
          5003,
          5925,
          1656,
          5405,
          2037,
          2255,
          1646,
          2011,
          2917,
          2547,
          4458,
          1944,
          4408,
          6025,
          3428,
          3724,
          3276,
          1795,
          3956,
          2177,
          5501,
          4717,
          2424,
          2372,
          1092,
          1692,
          1444,
          2836,
          3979,
          2324,
          814,
          2514,
          3339,
          4168,
          5478,
          5350,
          2482,
          3821,
          4780,
          2770,
          86,
          169,
          379,
          246,
          312,
          136,
          722,
          2583,
          5038,
          3716,
          2920,
          2462,
          2229,
          596,
          3512,
          1323,
          2486,
          1006,
          3592,
          3296,
          278,
          2349,
          401,
          2621,
          4308,
          2265,
          949,
          979,
          2807,
          641,
          1966,
          2144,
          3807,
          5140,
          2135,
          2857,
          2821,
          2322,
          2151,
          5817,
          6027,
          3239,
          1413,
          793,
          2020,
          2091,
          1148,
          3183,
          2812,
          2027,
          2435,
          2932,
          2047,
          4485,
          2434,
          2475,
          2341,
          4330,
          1785,
          3177,
          3612,
          2271,
          1954,
          2962,
          2848,
          93959,
          55820
         ],
         "z": [
          27,
          34,
          34,
          18,
          31,
          28,
          41,
          77,
          40,
          63,
          82,
          33,
          26,
          27,
          55,
          42,
          30,
          66,
          76,
          54,
          107,
          108,
          75,
          31,
          54,
          84,
          15,
          13,
          67,
          32,
          31,
          70,
          55,
          39,
          50,
          48,
          51,
          76,
          44,
          57,
          54,
          70,
          113,
          54,
          113,
          37,
          109,
          37,
          73,
          79,
          29,
          19,
          24,
          22,
          13,
          32,
          53,
          65,
          7,
          18,
          8,
          41,
          50,
          59,
          7,
          25,
          35,
          38,
          52,
          41,
          100,
          59,
          59,
          49,
          74,
          36,
          53,
          40,
          27,
          20,
          41,
          64,
          24,
          48,
          77,
          84,
          89,
          39,
          9,
          17,
          18,
          30,
          74,
          170,
          28,
          38,
          11,
          44,
          6,
          24,
          36,
          40,
          62,
          13,
          64,
          72,
          54,
          57,
          58,
          87,
          41,
          12,
          51,
          31,
          41,
          74,
          16,
          37,
          52,
          51,
          35,
          69,
          61,
          63,
          61,
          44,
          26,
          65,
          20,
          20,
          107,
          38,
          35,
          34,
          45,
          68,
          10,
          16,
          9,
          9,
          24,
          83,
          54,
          65,
          69,
          62,
          60,
          68,
          33,
          14,
          36,
          26,
          40,
          28,
          20,
          5,
          33,
          50,
          51,
          46,
          59,
          36,
          78,
          59,
          30,
          120,
          32,
          37,
          25,
          49,
          51,
          38,
          60,
          49,
          69,
          79,
          55,
          93,
          47,
          33,
          66,
          38,
          107,
          69,
          34,
          53,
          15,
          25,
          24,
          34,
          49,
          40,
          10,
          46,
          48,
          46,
          109,
          98,
          63,
          60,
          74,
          18,
          3,
          1,
          2,
          2,
          6,
          2,
          10,
          46,
          103,
          73,
          54,
          43,
          43,
          8,
          62,
          16,
          30,
          20,
          75,
          38,
          8,
          39,
          6,
          54,
          83,
          46,
          2,
          16,
          59,
          7,
          14,
          30,
          66,
          81,
          34,
          45,
          50,
          44,
          26,
          111,
          101,
          69,
          22,
          22,
          23,
          42,
          19,
          56,
          47,
          33,
          48,
          38,
          35,
          80,
          43,
          36,
          38,
          94,
          28,
          55,
          72,
          60,
          36,
          44,
          48,
          622,
          665
         ]
        }
       ],
       "layout": {
        "coloraxis": {
         "colorbar": {
          "title": {
           "text": "cluster"
          }
         },
         "colorscale": [
          [
           0,
           "#0d0887"
          ],
          [
           0.1111111111111111,
           "#46039f"
          ],
          [
           0.2222222222222222,
           "#7201a8"
          ],
          [
           0.3333333333333333,
           "#9c179e"
          ],
          [
           0.4444444444444444,
           "#bd3786"
          ],
          [
           0.5555555555555556,
           "#d8576b"
          ],
          [
           0.6666666666666666,
           "#ed7953"
          ],
          [
           0.7777777777777778,
           "#fb9f3a"
          ],
          [
           0.8888888888888888,
           "#fdca26"
          ],
          [
           1,
           "#f0f921"
          ]
         ]
        },
        "legend": {
         "tracegroupgap": 0
        },
        "margin": {
         "t": 60
        },
        "scene": {
         "domain": {
          "x": [
           0,
           1
          ],
          "y": [
           0,
           1
          ]
         },
         "xaxis": {
          "title": {
           "text": "Positif"
          }
         },
         "yaxis": {
          "title": {
           "text": "Sembuh"
          }
         },
         "zaxis": {
          "title": {
           "text": "Meninggal"
          }
         }
        },
        "template": {
         "data": {
          "bar": [
           {
            "error_x": {
             "color": "#2a3f5f"
            },
            "error_y": {
             "color": "#2a3f5f"
            },
            "marker": {
             "line": {
              "color": "#E5ECF6",
              "width": 0.5
             },
             "pattern": {
              "fillmode": "overlay",
              "size": 10,
              "solidity": 0.2
             }
            },
            "type": "bar"
           }
          ],
          "barpolar": [
           {
            "marker": {
             "line": {
              "color": "#E5ECF6",
              "width": 0.5
             },
             "pattern": {
              "fillmode": "overlay",
              "size": 10,
              "solidity": 0.2
             }
            },
            "type": "barpolar"
           }
          ],
          "carpet": [
           {
            "aaxis": {
             "endlinecolor": "#2a3f5f",
             "gridcolor": "white",
             "linecolor": "white",
             "minorgridcolor": "white",
             "startlinecolor": "#2a3f5f"
            },
            "baxis": {
             "endlinecolor": "#2a3f5f",
             "gridcolor": "white",
             "linecolor": "white",
             "minorgridcolor": "white",
             "startlinecolor": "#2a3f5f"
            },
            "type": "carpet"
           }
          ],
          "choropleth": [
           {
            "colorbar": {
             "outlinewidth": 0,
             "ticks": ""
            },
            "type": "choropleth"
           }
          ],
          "contour": [
           {
            "colorbar": {
             "outlinewidth": 0,
             "ticks": ""
            },
            "colorscale": [
             [
              0,
              "#0d0887"
             ],
             [
              0.1111111111111111,
              "#46039f"
             ],
             [
              0.2222222222222222,
              "#7201a8"
             ],
             [
              0.3333333333333333,
              "#9c179e"
             ],
             [
              0.4444444444444444,
              "#bd3786"
             ],
             [
              0.5555555555555556,
              "#d8576b"
             ],
             [
              0.6666666666666666,
              "#ed7953"
             ],
             [
              0.7777777777777778,
              "#fb9f3a"
             ],
             [
              0.8888888888888888,
              "#fdca26"
             ],
             [
              1,
              "#f0f921"
             ]
            ],
            "type": "contour"
           }
          ],
          "contourcarpet": [
           {
            "colorbar": {
             "outlinewidth": 0,
             "ticks": ""
            },
            "type": "contourcarpet"
           }
          ],
          "heatmap": [
           {
            "colorbar": {
             "outlinewidth": 0,
             "ticks": ""
            },
            "colorscale": [
             [
              0,
              "#0d0887"
             ],
             [
              0.1111111111111111,
              "#46039f"
             ],
             [
              0.2222222222222222,
              "#7201a8"
             ],
             [
              0.3333333333333333,
              "#9c179e"
             ],
             [
              0.4444444444444444,
              "#bd3786"
             ],
             [
              0.5555555555555556,
              "#d8576b"
             ],
             [
              0.6666666666666666,
              "#ed7953"
             ],
             [
              0.7777777777777778,
              "#fb9f3a"
             ],
             [
              0.8888888888888888,
              "#fdca26"
             ],
             [
              1,
              "#f0f921"
             ]
            ],
            "type": "heatmap"
           }
          ],
          "heatmapgl": [
           {
            "colorbar": {
             "outlinewidth": 0,
             "ticks": ""
            },
            "colorscale": [
             [
              0,
              "#0d0887"
             ],
             [
              0.1111111111111111,
              "#46039f"
             ],
             [
              0.2222222222222222,
              "#7201a8"
             ],
             [
              0.3333333333333333,
              "#9c179e"
             ],
             [
              0.4444444444444444,
              "#bd3786"
             ],
             [
              0.5555555555555556,
              "#d8576b"
             ],
             [
              0.6666666666666666,
              "#ed7953"
             ],
             [
              0.7777777777777778,
              "#fb9f3a"
             ],
             [
              0.8888888888888888,
              "#fdca26"
             ],
             [
              1,
              "#f0f921"
             ]
            ],
            "type": "heatmapgl"
           }
          ],
          "histogram": [
           {
            "marker": {
             "pattern": {
              "fillmode": "overlay",
              "size": 10,
              "solidity": 0.2
             }
            },
            "type": "histogram"
           }
          ],
          "histogram2d": [
           {
            "colorbar": {
             "outlinewidth": 0,
             "ticks": ""
            },
            "colorscale": [
             [
              0,
              "#0d0887"
             ],
             [
              0.1111111111111111,
              "#46039f"
             ],
             [
              0.2222222222222222,
              "#7201a8"
             ],
             [
              0.3333333333333333,
              "#9c179e"
             ],
             [
              0.4444444444444444,
              "#bd3786"
             ],
             [
              0.5555555555555556,
              "#d8576b"
             ],
             [
              0.6666666666666666,
              "#ed7953"
             ],
             [
              0.7777777777777778,
              "#fb9f3a"
             ],
             [
              0.8888888888888888,
              "#fdca26"
             ],
             [
              1,
              "#f0f921"
             ]
            ],
            "type": "histogram2d"
           }
          ],
          "histogram2dcontour": [
           {
            "colorbar": {
             "outlinewidth": 0,
             "ticks": ""
            },
            "colorscale": [
             [
              0,
              "#0d0887"
             ],
             [
              0.1111111111111111,
              "#46039f"
             ],
             [
              0.2222222222222222,
              "#7201a8"
             ],
             [
              0.3333333333333333,
              "#9c179e"
             ],
             [
              0.4444444444444444,
              "#bd3786"
             ],
             [
              0.5555555555555556,
              "#d8576b"
             ],
             [
              0.6666666666666666,
              "#ed7953"
             ],
             [
              0.7777777777777778,
              "#fb9f3a"
             ],
             [
              0.8888888888888888,
              "#fdca26"
             ],
             [
              1,
              "#f0f921"
             ]
            ],
            "type": "histogram2dcontour"
           }
          ],
          "mesh3d": [
           {
            "colorbar": {
             "outlinewidth": 0,
             "ticks": ""
            },
            "type": "mesh3d"
           }
          ],
          "parcoords": [
           {
            "line": {
             "colorbar": {
              "outlinewidth": 0,
              "ticks": ""
             }
            },
            "type": "parcoords"
           }
          ],
          "pie": [
           {
            "automargin": true,
            "type": "pie"
           }
          ],
          "scatter": [
           {
            "marker": {
             "colorbar": {
              "outlinewidth": 0,
              "ticks": ""
             }
            },
            "type": "scatter"
           }
          ],
          "scatter3d": [
           {
            "line": {
             "colorbar": {
              "outlinewidth": 0,
              "ticks": ""
             }
            },
            "marker": {
             "colorbar": {
              "outlinewidth": 0,
              "ticks": ""
             }
            },
            "type": "scatter3d"
           }
          ],
          "scattercarpet": [
           {
            "marker": {
             "colorbar": {
              "outlinewidth": 0,
              "ticks": ""
             }
            },
            "type": "scattercarpet"
           }
          ],
          "scattergeo": [
           {
            "marker": {
             "colorbar": {
              "outlinewidth": 0,
              "ticks": ""
             }
            },
            "type": "scattergeo"
           }
          ],
          "scattergl": [
           {
            "marker": {
             "colorbar": {
              "outlinewidth": 0,
              "ticks": ""
             }
            },
            "type": "scattergl"
           }
          ],
          "scattermapbox": [
           {
            "marker": {
             "colorbar": {
              "outlinewidth": 0,
              "ticks": ""
             }
            },
            "type": "scattermapbox"
           }
          ],
          "scatterpolar": [
           {
            "marker": {
             "colorbar": {
              "outlinewidth": 0,
              "ticks": ""
             }
            },
            "type": "scatterpolar"
           }
          ],
          "scatterpolargl": [
           {
            "marker": {
             "colorbar": {
              "outlinewidth": 0,
              "ticks": ""
             }
            },
            "type": "scatterpolargl"
           }
          ],
          "scatterternary": [
           {
            "marker": {
             "colorbar": {
              "outlinewidth": 0,
              "ticks": ""
             }
            },
            "type": "scatterternary"
           }
          ],
          "surface": [
           {
            "colorbar": {
             "outlinewidth": 0,
             "ticks": ""
            },
            "colorscale": [
             [
              0,
              "#0d0887"
             ],
             [
              0.1111111111111111,
              "#46039f"
             ],
             [
              0.2222222222222222,
              "#7201a8"
             ],
             [
              0.3333333333333333,
              "#9c179e"
             ],
             [
              0.4444444444444444,
              "#bd3786"
             ],
             [
              0.5555555555555556,
              "#d8576b"
             ],
             [
              0.6666666666666666,
              "#ed7953"
             ],
             [
              0.7777777777777778,
              "#fb9f3a"
             ],
             [
              0.8888888888888888,
              "#fdca26"
             ],
             [
              1,
              "#f0f921"
             ]
            ],
            "type": "surface"
           }
          ],
          "table": [
           {
            "cells": {
             "fill": {
              "color": "#EBF0F8"
             },
             "line": {
              "color": "white"
             }
            },
            "header": {
             "fill": {
              "color": "#C8D4E3"
             },
             "line": {
              "color": "white"
             }
            },
            "type": "table"
           }
          ]
         },
         "layout": {
          "annotationdefaults": {
           "arrowcolor": "#2a3f5f",
           "arrowhead": 0,
           "arrowwidth": 1
          },
          "autotypenumbers": "strict",
          "coloraxis": {
           "colorbar": {
            "outlinewidth": 0,
            "ticks": ""
           }
          },
          "colorscale": {
           "diverging": [
            [
             0,
             "#8e0152"
            ],
            [
             0.1,
             "#c51b7d"
            ],
            [
             0.2,
             "#de77ae"
            ],
            [
             0.3,
             "#f1b6da"
            ],
            [
             0.4,
             "#fde0ef"
            ],
            [
             0.5,
             "#f7f7f7"
            ],
            [
             0.6,
             "#e6f5d0"
            ],
            [
             0.7,
             "#b8e186"
            ],
            [
             0.8,
             "#7fbc41"
            ],
            [
             0.9,
             "#4d9221"
            ],
            [
             1,
             "#276419"
            ]
           ],
           "sequential": [
            [
             0,
             "#0d0887"
            ],
            [
             0.1111111111111111,
             "#46039f"
            ],
            [
             0.2222222222222222,
             "#7201a8"
            ],
            [
             0.3333333333333333,
             "#9c179e"
            ],
            [
             0.4444444444444444,
             "#bd3786"
            ],
            [
             0.5555555555555556,
             "#d8576b"
            ],
            [
             0.6666666666666666,
             "#ed7953"
            ],
            [
             0.7777777777777778,
             "#fb9f3a"
            ],
            [
             0.8888888888888888,
             "#fdca26"
            ],
            [
             1,
             "#f0f921"
            ]
           ],
           "sequentialminus": [
            [
             0,
             "#0d0887"
            ],
            [
             0.1111111111111111,
             "#46039f"
            ],
            [
             0.2222222222222222,
             "#7201a8"
            ],
            [
             0.3333333333333333,
             "#9c179e"
            ],
            [
             0.4444444444444444,
             "#bd3786"
            ],
            [
             0.5555555555555556,
             "#d8576b"
            ],
            [
             0.6666666666666666,
             "#ed7953"
            ],
            [
             0.7777777777777778,
             "#fb9f3a"
            ],
            [
             0.8888888888888888,
             "#fdca26"
            ],
            [
             1,
             "#f0f921"
            ]
           ]
          },
          "colorway": [
           "#636efa",
           "#EF553B",
           "#00cc96",
           "#ab63fa",
           "#FFA15A",
           "#19d3f3",
           "#FF6692",
           "#B6E880",
           "#FF97FF",
           "#FECB52"
          ],
          "font": {
           "color": "#2a3f5f"
          },
          "geo": {
           "bgcolor": "white",
           "lakecolor": "white",
           "landcolor": "#E5ECF6",
           "showlakes": true,
           "showland": true,
           "subunitcolor": "white"
          },
          "hoverlabel": {
           "align": "left"
          },
          "hovermode": "closest",
          "mapbox": {
           "style": "light"
          },
          "paper_bgcolor": "white",
          "plot_bgcolor": "#E5ECF6",
          "polar": {
           "angularaxis": {
            "gridcolor": "white",
            "linecolor": "white",
            "ticks": ""
           },
           "bgcolor": "#E5ECF6",
           "radialaxis": {
            "gridcolor": "white",
            "linecolor": "white",
            "ticks": ""
           }
          },
          "scene": {
           "xaxis": {
            "backgroundcolor": "#E5ECF6",
            "gridcolor": "white",
            "gridwidth": 2,
            "linecolor": "white",
            "showbackground": true,
            "ticks": "",
            "zerolinecolor": "white"
           },
           "yaxis": {
            "backgroundcolor": "#E5ECF6",
            "gridcolor": "white",
            "gridwidth": 2,
            "linecolor": "white",
            "showbackground": true,
            "ticks": "",
            "zerolinecolor": "white"
           },
           "zaxis": {
            "backgroundcolor": "#E5ECF6",
            "gridcolor": "white",
            "gridwidth": 2,
            "linecolor": "white",
            "showbackground": true,
            "ticks": "",
            "zerolinecolor": "white"
           }
          },
          "shapedefaults": {
           "line": {
            "color": "#2a3f5f"
           }
          },
          "ternary": {
           "aaxis": {
            "gridcolor": "white",
            "linecolor": "white",
            "ticks": ""
           },
           "baxis": {
            "gridcolor": "white",
            "linecolor": "white",
            "ticks": ""
           },
           "bgcolor": "#E5ECF6",
           "caxis": {
            "gridcolor": "white",
            "linecolor": "white",
            "ticks": ""
           }
          },
          "title": {
           "x": 0.05
          },
          "xaxis": {
           "automargin": true,
           "gridcolor": "white",
           "linecolor": "white",
           "ticks": "",
           "title": {
            "standoff": 15
           },
           "zerolinecolor": "white",
           "zerolinewidth": 2
          },
          "yaxis": {
           "automargin": true,
           "gridcolor": "white",
           "linecolor": "white",
           "ticks": "",
           "title": {
            "standoff": 15
           },
           "zerolinecolor": "white",
           "zerolinewidth": 2
          }
         }
        }
       }
      },
      "text/html": [
       "<div>                            <div id=\"e3c85b1c-e6fc-4907-8e6f-f6ec6bca3485\" class=\"plotly-graph-div\" style=\"height:525px; width:100%;\"></div>            <script type=\"text/javascript\">                require([\"plotly\"], function(Plotly) {                    window.PLOTLYENV=window.PLOTLYENV || {};                                    if (document.getElementById(\"e3c85b1c-e6fc-4907-8e6f-f6ec6bca3485\")) {                    Plotly.newPlot(                        \"e3c85b1c-e6fc-4907-8e6f-f6ec6bca3485\",                        [{\"hovertemplate\":\"Positif=%{x}<br>Sembuh=%{y}<br>Meninggal=%{z}<br>cluster=%{marker.color}<extra></extra>\",\"legendgroup\":\"\",\"marker\":{\"color\":[1,1,1,3,1,1,1,0,1,0,0,1,3,1,1,1,1,0,0,1,2,2,0,1,0,0,3,3,0,1,1,0,1,1,1,1,1,0,1,1,1,0,2,1,2,1,2,1,0,0,3,3,3,3,3,1,0,0,3,3,3,1,1,0,3,1,1,1,0,1,2,0,0,1,0,1,0,1,3,3,1,0,3,1,0,0,2,1,3,3,3,3,0,2,1,1,3,1,3,3,1,1,0,3,0,0,1,1,0,2,1,3,1,1,1,0,3,1,1,1,1,0,0,0,0,1,1,0,3,3,2,1,1,1,1,0,3,3,3,3,3,0,0,0,0,0,0,0,1,3,1,3,1,3,3,3,1,1,1,1,0,1,0,0,1,2,1,1,3,1,1,1,0,1,0,2,0,2,1,1,0,1,2,0,1,1,3,3,3,1,0,1,3,1,1,0,2,2,0,0,0,3,3,3,3,3,3,3,3,1,2,0,1,1,1,3,0,3,1,3,0,1,3,1,3,1,0,1,3,3,0,3,3,1,0,0,1,1,1,1,1,2,2,0,3,3,3,1,3,0,1,1,1,1,1,0,1,1,1,2,1,0,0,1,1,1,1,2,2],\"coloraxis\":\"coloraxis\",\"symbol\":\"circle\"},\"mode\":\"markers\",\"name\":\"\",\"scene\":\"scene\",\"showlegend\":false,\"x\":[2031,1950,2194,894,3095,2013,2739,3994,2233,3152,4096,2485,1501,2154,2976,3269,2162,3163,4288,3218,5869,6262,6137,1839,4157,3999,777,1206,5684,2995,3379,3602,2604,3644,3466,2560,2949,3721,2682,2848,2675,3546,5017,2830,5956,2175,5657,2572,4640,5016,1603,980,1440,1190,1279,2135,3611,3403,541,887,725,2455,3149,3198,465,2446,2092,1876,4371,2020,6794,3071,3539,1892,4257,1716,3571,3448,1724,1467,3702,4191,1283,1805,4173,4929,4547,1675,1037,809,1548,1553,3541,6800,3049,2105,1084,3130,434,1801,2105,2460,4182,1358,3661,3670,3136,2848,4059,5354,1774,1041,3373,1715,2067,4071,1044,2263,2620,3360,2314,4650,4402,4334,3202,2750,2453,3820,1223,1299,4738,2092,1828,1735,2112,3490,1122,1533,1032,1883,1312,3776,4160,4285,5836,3648,3210,2953,2261,899,2137,1862,2047,1402,1234,503,2210,2687,3269,3254,3968,2824,5278,6203,1742,5706,2142,2387,1796,2121,3091,2659,4757,2067,4704,6371,3592,3936,3365,1916,4237,2283,5732,5055,2543,2510,1155,1781,1541,2978,4172,2409,876,2630,3459,4530,5739,5638,2604,4011,5036,2829,90,170,382,248,318,139,766,2713,5252,3884,3055,2556,2333,633,3725,1374,2608,1048,3772,3426,293,2420,434,2744,4469,2345,975,1036,2966,690,2039,2255,3982,5315,2237,2989,2962,2468,2221,6231,6310,3375,1533,889,2199,2260,1230,3387,3028,2172,2522,3118,2215,4672,2572,2628,2480,4512,1868,3324,3784,2420,2027,3059,3025,95286,58523],\"y\":[1938,1829,2113,853,2998,1936,2654,3778,2074,2996,3867,2374,1425,2095,2859,3178,2072,2989,4085,3067,5552,5952,5917,1741,4024,3847,708,1131,5392,2874,3295,3443,2507,3545,3328,2414,2800,3558,2577,2745,2546,3360,4804,2686,5717,2088,5389,2435,4223,4770,1472,879,1308,1107,1235,2032,3417,3256,523,801,683,2296,2977,3016,447,2349,1961,1732,4187,1915,6565,2880,3399,1747,4097,1655,3355,3235,1588,1362,3564,3960,1173,1718,3972,4703,4366,1596,965,735,1491,1459,3387,6425,2804,1924,1031,2968,411,1695,1909,2352,3964,1251,3520,3485,2984,2658,3923,5079,1622,985,3226,1642,1949,3913,991,2139,2439,3129,2196,4478,4107,4070,3020,2619,2309,3595,1167,1191,4507,2018,1743,1623,1978,3353,1068,1418,995,1835,1221,3614,3958,4137,5676,3498,3050,2815,2139,838,1967,1793,1952,1294,1196,470,2071,2559,3081,3126,3772,2752,5003,5925,1656,5405,2037,2255,1646,2011,2917,2547,4458,1944,4408,6025,3428,3724,3276,1795,3956,2177,5501,4717,2424,2372,1092,1692,1444,2836,3979,2324,814,2514,3339,4168,5478,5350,2482,3821,4780,2770,86,169,379,246,312,136,722,2583,5038,3716,2920,2462,2229,596,3512,1323,2486,1006,3592,3296,278,2349,401,2621,4308,2265,949,979,2807,641,1966,2144,3807,5140,2135,2857,2821,2322,2151,5817,6027,3239,1413,793,2020,2091,1148,3183,2812,2027,2435,2932,2047,4485,2434,2475,2341,4330,1785,3177,3612,2271,1954,2962,2848,93959,55820],\"z\":[27,34,34,18,31,28,41,77,40,63,82,33,26,27,55,42,30,66,76,54,107,108,75,31,54,84,15,13,67,32,31,70,55,39,50,48,51,76,44,57,54,70,113,54,113,37,109,37,73,79,29,19,24,22,13,32,53,65,7,18,8,41,50,59,7,25,35,38,52,41,100,59,59,49,74,36,53,40,27,20,41,64,24,48,77,84,89,39,9,17,18,30,74,170,28,38,11,44,6,24,36,40,62,13,64,72,54,57,58,87,41,12,51,31,41,74,16,37,52,51,35,69,61,63,61,44,26,65,20,20,107,38,35,34,45,68,10,16,9,9,24,83,54,65,69,62,60,68,33,14,36,26,40,28,20,5,33,50,51,46,59,36,78,59,30,120,32,37,25,49,51,38,60,49,69,79,55,93,47,33,66,38,107,69,34,53,15,25,24,34,49,40,10,46,48,46,109,98,63,60,74,18,3,1,2,2,6,2,10,46,103,73,54,43,43,8,62,16,30,20,75,38,8,39,6,54,83,46,2,16,59,7,14,30,66,81,34,45,50,44,26,111,101,69,22,22,23,42,19,56,47,33,48,38,35,80,43,36,38,94,28,55,72,60,36,44,48,622,665],\"type\":\"scatter3d\"}],                        {\"template\":{\"data\":{\"bar\":[{\"error_x\":{\"color\":\"#2a3f5f\"},\"error_y\":{\"color\":\"#2a3f5f\"},\"marker\":{\"line\":{\"color\":\"#E5ECF6\",\"width\":0.5},\"pattern\":{\"fillmode\":\"overlay\",\"size\":10,\"solidity\":0.2}},\"type\":\"bar\"}],\"barpolar\":[{\"marker\":{\"line\":{\"color\":\"#E5ECF6\",\"width\":0.5},\"pattern\":{\"fillmode\":\"overlay\",\"size\":10,\"solidity\":0.2}},\"type\":\"barpolar\"}],\"carpet\":[{\"aaxis\":{\"endlinecolor\":\"#2a3f5f\",\"gridcolor\":\"white\",\"linecolor\":\"white\",\"minorgridcolor\":\"white\",\"startlinecolor\":\"#2a3f5f\"},\"baxis\":{\"endlinecolor\":\"#2a3f5f\",\"gridcolor\":\"white\",\"linecolor\":\"white\",\"minorgridcolor\":\"white\",\"startlinecolor\":\"#2a3f5f\"},\"type\":\"carpet\"}],\"choropleth\":[{\"colorbar\":{\"outlinewidth\":0,\"ticks\":\"\"},\"type\":\"choropleth\"}],\"contour\":[{\"colorbar\":{\"outlinewidth\":0,\"ticks\":\"\"},\"colorscale\":[[0.0,\"#0d0887\"],[0.1111111111111111,\"#46039f\"],[0.2222222222222222,\"#7201a8\"],[0.3333333333333333,\"#9c179e\"],[0.4444444444444444,\"#bd3786\"],[0.5555555555555556,\"#d8576b\"],[0.6666666666666666,\"#ed7953\"],[0.7777777777777778,\"#fb9f3a\"],[0.8888888888888888,\"#fdca26\"],[1.0,\"#f0f921\"]],\"type\":\"contour\"}],\"contourcarpet\":[{\"colorbar\":{\"outlinewidth\":0,\"ticks\":\"\"},\"type\":\"contourcarpet\"}],\"heatmap\":[{\"colorbar\":{\"outlinewidth\":0,\"ticks\":\"\"},\"colorscale\":[[0.0,\"#0d0887\"],[0.1111111111111111,\"#46039f\"],[0.2222222222222222,\"#7201a8\"],[0.3333333333333333,\"#9c179e\"],[0.4444444444444444,\"#bd3786\"],[0.5555555555555556,\"#d8576b\"],[0.6666666666666666,\"#ed7953\"],[0.7777777777777778,\"#fb9f3a\"],[0.8888888888888888,\"#fdca26\"],[1.0,\"#f0f921\"]],\"type\":\"heatmap\"}],\"heatmapgl\":[{\"colorbar\":{\"outlinewidth\":0,\"ticks\":\"\"},\"colorscale\":[[0.0,\"#0d0887\"],[0.1111111111111111,\"#46039f\"],[0.2222222222222222,\"#7201a8\"],[0.3333333333333333,\"#9c179e\"],[0.4444444444444444,\"#bd3786\"],[0.5555555555555556,\"#d8576b\"],[0.6666666666666666,\"#ed7953\"],[0.7777777777777778,\"#fb9f3a\"],[0.8888888888888888,\"#fdca26\"],[1.0,\"#f0f921\"]],\"type\":\"heatmapgl\"}],\"histogram\":[{\"marker\":{\"pattern\":{\"fillmode\":\"overlay\",\"size\":10,\"solidity\":0.2}},\"type\":\"histogram\"}],\"histogram2d\":[{\"colorbar\":{\"outlinewidth\":0,\"ticks\":\"\"},\"colorscale\":[[0.0,\"#0d0887\"],[0.1111111111111111,\"#46039f\"],[0.2222222222222222,\"#7201a8\"],[0.3333333333333333,\"#9c179e\"],[0.4444444444444444,\"#bd3786\"],[0.5555555555555556,\"#d8576b\"],[0.6666666666666666,\"#ed7953\"],[0.7777777777777778,\"#fb9f3a\"],[0.8888888888888888,\"#fdca26\"],[1.0,\"#f0f921\"]],\"type\":\"histogram2d\"}],\"histogram2dcontour\":[{\"colorbar\":{\"outlinewidth\":0,\"ticks\":\"\"},\"colorscale\":[[0.0,\"#0d0887\"],[0.1111111111111111,\"#46039f\"],[0.2222222222222222,\"#7201a8\"],[0.3333333333333333,\"#9c179e\"],[0.4444444444444444,\"#bd3786\"],[0.5555555555555556,\"#d8576b\"],[0.6666666666666666,\"#ed7953\"],[0.7777777777777778,\"#fb9f3a\"],[0.8888888888888888,\"#fdca26\"],[1.0,\"#f0f921\"]],\"type\":\"histogram2dcontour\"}],\"mesh3d\":[{\"colorbar\":{\"outlinewidth\":0,\"ticks\":\"\"},\"type\":\"mesh3d\"}],\"parcoords\":[{\"line\":{\"colorbar\":{\"outlinewidth\":0,\"ticks\":\"\"}},\"type\":\"parcoords\"}],\"pie\":[{\"automargin\":true,\"type\":\"pie\"}],\"scatter\":[{\"marker\":{\"colorbar\":{\"outlinewidth\":0,\"ticks\":\"\"}},\"type\":\"scatter\"}],\"scatter3d\":[{\"line\":{\"colorbar\":{\"outlinewidth\":0,\"ticks\":\"\"}},\"marker\":{\"colorbar\":{\"outlinewidth\":0,\"ticks\":\"\"}},\"type\":\"scatter3d\"}],\"scattercarpet\":[{\"marker\":{\"colorbar\":{\"outlinewidth\":0,\"ticks\":\"\"}},\"type\":\"scattercarpet\"}],\"scattergeo\":[{\"marker\":{\"colorbar\":{\"outlinewidth\":0,\"ticks\":\"\"}},\"type\":\"scattergeo\"}],\"scattergl\":[{\"marker\":{\"colorbar\":{\"outlinewidth\":0,\"ticks\":\"\"}},\"type\":\"scattergl\"}],\"scattermapbox\":[{\"marker\":{\"colorbar\":{\"outlinewidth\":0,\"ticks\":\"\"}},\"type\":\"scattermapbox\"}],\"scatterpolar\":[{\"marker\":{\"colorbar\":{\"outlinewidth\":0,\"ticks\":\"\"}},\"type\":\"scatterpolar\"}],\"scatterpolargl\":[{\"marker\":{\"colorbar\":{\"outlinewidth\":0,\"ticks\":\"\"}},\"type\":\"scatterpolargl\"}],\"scatterternary\":[{\"marker\":{\"colorbar\":{\"outlinewidth\":0,\"ticks\":\"\"}},\"type\":\"scatterternary\"}],\"surface\":[{\"colorbar\":{\"outlinewidth\":0,\"ticks\":\"\"},\"colorscale\":[[0.0,\"#0d0887\"],[0.1111111111111111,\"#46039f\"],[0.2222222222222222,\"#7201a8\"],[0.3333333333333333,\"#9c179e\"],[0.4444444444444444,\"#bd3786\"],[0.5555555555555556,\"#d8576b\"],[0.6666666666666666,\"#ed7953\"],[0.7777777777777778,\"#fb9f3a\"],[0.8888888888888888,\"#fdca26\"],[1.0,\"#f0f921\"]],\"type\":\"surface\"}],\"table\":[{\"cells\":{\"fill\":{\"color\":\"#EBF0F8\"},\"line\":{\"color\":\"white\"}},\"header\":{\"fill\":{\"color\":\"#C8D4E3\"},\"line\":{\"color\":\"white\"}},\"type\":\"table\"}]},\"layout\":{\"annotationdefaults\":{\"arrowcolor\":\"#2a3f5f\",\"arrowhead\":0,\"arrowwidth\":1},\"autotypenumbers\":\"strict\",\"coloraxis\":{\"colorbar\":{\"outlinewidth\":0,\"ticks\":\"\"}},\"colorscale\":{\"diverging\":[[0,\"#8e0152\"],[0.1,\"#c51b7d\"],[0.2,\"#de77ae\"],[0.3,\"#f1b6da\"],[0.4,\"#fde0ef\"],[0.5,\"#f7f7f7\"],[0.6,\"#e6f5d0\"],[0.7,\"#b8e186\"],[0.8,\"#7fbc41\"],[0.9,\"#4d9221\"],[1,\"#276419\"]],\"sequential\":[[0.0,\"#0d0887\"],[0.1111111111111111,\"#46039f\"],[0.2222222222222222,\"#7201a8\"],[0.3333333333333333,\"#9c179e\"],[0.4444444444444444,\"#bd3786\"],[0.5555555555555556,\"#d8576b\"],[0.6666666666666666,\"#ed7953\"],[0.7777777777777778,\"#fb9f3a\"],[0.8888888888888888,\"#fdca26\"],[1.0,\"#f0f921\"]],\"sequentialminus\":[[0.0,\"#0d0887\"],[0.1111111111111111,\"#46039f\"],[0.2222222222222222,\"#7201a8\"],[0.3333333333333333,\"#9c179e\"],[0.4444444444444444,\"#bd3786\"],[0.5555555555555556,\"#d8576b\"],[0.6666666666666666,\"#ed7953\"],[0.7777777777777778,\"#fb9f3a\"],[0.8888888888888888,\"#fdca26\"],[1.0,\"#f0f921\"]]},\"colorway\":[\"#636efa\",\"#EF553B\",\"#00cc96\",\"#ab63fa\",\"#FFA15A\",\"#19d3f3\",\"#FF6692\",\"#B6E880\",\"#FF97FF\",\"#FECB52\"],\"font\":{\"color\":\"#2a3f5f\"},\"geo\":{\"bgcolor\":\"white\",\"lakecolor\":\"white\",\"landcolor\":\"#E5ECF6\",\"showlakes\":true,\"showland\":true,\"subunitcolor\":\"white\"},\"hoverlabel\":{\"align\":\"left\"},\"hovermode\":\"closest\",\"mapbox\":{\"style\":\"light\"},\"paper_bgcolor\":\"white\",\"plot_bgcolor\":\"#E5ECF6\",\"polar\":{\"angularaxis\":{\"gridcolor\":\"white\",\"linecolor\":\"white\",\"ticks\":\"\"},\"bgcolor\":\"#E5ECF6\",\"radialaxis\":{\"gridcolor\":\"white\",\"linecolor\":\"white\",\"ticks\":\"\"}},\"scene\":{\"xaxis\":{\"backgroundcolor\":\"#E5ECF6\",\"gridcolor\":\"white\",\"gridwidth\":2,\"linecolor\":\"white\",\"showbackground\":true,\"ticks\":\"\",\"zerolinecolor\":\"white\"},\"yaxis\":{\"backgroundcolor\":\"#E5ECF6\",\"gridcolor\":\"white\",\"gridwidth\":2,\"linecolor\":\"white\",\"showbackground\":true,\"ticks\":\"\",\"zerolinecolor\":\"white\"},\"zaxis\":{\"backgroundcolor\":\"#E5ECF6\",\"gridcolor\":\"white\",\"gridwidth\":2,\"linecolor\":\"white\",\"showbackground\":true,\"ticks\":\"\",\"zerolinecolor\":\"white\"}},\"shapedefaults\":{\"line\":{\"color\":\"#2a3f5f\"}},\"ternary\":{\"aaxis\":{\"gridcolor\":\"white\",\"linecolor\":\"white\",\"ticks\":\"\"},\"baxis\":{\"gridcolor\":\"white\",\"linecolor\":\"white\",\"ticks\":\"\"},\"bgcolor\":\"#E5ECF6\",\"caxis\":{\"gridcolor\":\"white\",\"linecolor\":\"white\",\"ticks\":\"\"}},\"title\":{\"x\":0.05},\"xaxis\":{\"automargin\":true,\"gridcolor\":\"white\",\"linecolor\":\"white\",\"ticks\":\"\",\"title\":{\"standoff\":15},\"zerolinecolor\":\"white\",\"zerolinewidth\":2},\"yaxis\":{\"automargin\":true,\"gridcolor\":\"white\",\"linecolor\":\"white\",\"ticks\":\"\",\"title\":{\"standoff\":15},\"zerolinecolor\":\"white\",\"zerolinewidth\":2}}},\"scene\":{\"domain\":{\"x\":[0.0,1.0],\"y\":[0.0,1.0]},\"xaxis\":{\"title\":{\"text\":\"Positif\"}},\"yaxis\":{\"title\":{\"text\":\"Sembuh\"}},\"zaxis\":{\"title\":{\"text\":\"Meninggal\"}}},\"coloraxis\":{\"colorbar\":{\"title\":{\"text\":\"cluster\"}},\"colorscale\":[[0.0,\"#0d0887\"],[0.1111111111111111,\"#46039f\"],[0.2222222222222222,\"#7201a8\"],[0.3333333333333333,\"#9c179e\"],[0.4444444444444444,\"#bd3786\"],[0.5555555555555556,\"#d8576b\"],[0.6666666666666666,\"#ed7953\"],[0.7777777777777778,\"#fb9f3a\"],[0.8888888888888888,\"#fdca26\"],[1.0,\"#f0f921\"]]},\"legend\":{\"tracegroupgap\":0},\"margin\":{\"t\":60}},                        {\"responsive\": true}                    ).then(function(){\n",
       "                            \n",
       "var gd = document.getElementById('e3c85b1c-e6fc-4907-8e6f-f6ec6bca3485');\n",
       "var x = new MutationObserver(function (mutations, observer) {{\n",
       "        var display = window.getComputedStyle(gd).display;\n",
       "        if (!display || display === 'none') {{\n",
       "            console.log([gd, 'removed!']);\n",
       "            Plotly.purge(gd);\n",
       "            observer.disconnect();\n",
       "        }}\n",
       "}});\n",
       "\n",
       "// Listen for the removal of the full notebook cells\n",
       "var notebookContainer = gd.closest('#notebook-container');\n",
       "if (notebookContainer) {{\n",
       "    x.observe(notebookContainer, {childList: true});\n",
       "}}\n",
       "\n",
       "// Listen for the clearing of the current output cell\n",
       "var outputEl = gd.closest('.output');\n",
       "if (outputEl) {{\n",
       "    x.observe(outputEl, {childList: true});\n",
       "}}\n",
       "\n",
       "                        })                };                });            </script>        </div>"
      ]
     },
     "metadata": {},
     "output_type": "display_data"
    }
   ],
   "source": [
    "fig = px.scatter_3d(df, x='Positif', y='Sembuh', z='Meninggal',\n",
    "              color='cluster')\n",
    "fig.show()"
   ]
  },
  {
   "cell_type": "code",
   "execution_count": 66,
   "id": "a0475437",
   "metadata": {},
   "outputs": [
    {
     "data": {
      "text/html": [
       "<div>\n",
       "<style scoped>\n",
       "    .dataframe tbody tr th:only-of-type {\n",
       "        vertical-align: middle;\n",
       "    }\n",
       "\n",
       "    .dataframe tbody tr th {\n",
       "        vertical-align: top;\n",
       "    }\n",
       "\n",
       "    .dataframe thead th {\n",
       "        text-align: right;\n",
       "    }\n",
       "</style>\n",
       "<table border=\"1\" class=\"dataframe\">\n",
       "  <thead>\n",
       "    <tr style=\"text-align: right;\">\n",
       "      <th></th>\n",
       "      <th>Positif</th>\n",
       "      <th>Sembuh</th>\n",
       "      <th>Meninggal</th>\n",
       "    </tr>\n",
       "    <tr>\n",
       "      <th>cluster</th>\n",
       "      <th></th>\n",
       "      <th></th>\n",
       "      <th></th>\n",
       "    </tr>\n",
       "  </thead>\n",
       "  <tbody>\n",
       "    <tr>\n",
       "      <th>0</th>\n",
       "      <td>4076.246377</td>\n",
       "      <td>3877.231884</td>\n",
       "      <td>66.681159</td>\n",
       "    </tr>\n",
       "    <tr>\n",
       "      <th>1</th>\n",
       "      <td>2536.438596</td>\n",
       "      <td>2411.421053</td>\n",
       "      <td>40.798246</td>\n",
       "    </tr>\n",
       "    <tr>\n",
       "      <th>2</th>\n",
       "      <td>5621.050000</td>\n",
       "      <td>5352.550000</td>\n",
       "      <td>105.900000</td>\n",
       "    </tr>\n",
       "    <tr>\n",
       "      <th>3</th>\n",
       "      <td>1116.234375</td>\n",
       "      <td>1050.250000</td>\n",
       "      <td>15.203125</td>\n",
       "    </tr>\n",
       "  </tbody>\n",
       "</table>\n",
       "</div>"
      ],
      "text/plain": [
       "             Positif       Sembuh   Meninggal\n",
       "cluster                                      \n",
       "0        4076.246377  3877.231884   66.681159\n",
       "1        2536.438596  2411.421053   40.798246\n",
       "2        5621.050000  5352.550000  105.900000\n",
       "3        1116.234375  1050.250000   15.203125"
      ]
     },
     "execution_count": 66,
     "metadata": {},
     "output_type": "execute_result"
    }
   ],
   "source": [
    "df1.groupby('cluster').mean()"
   ]
  },
  {
   "cell_type": "code",
   "execution_count": 72,
   "id": "a33fa4df",
   "metadata": {},
   "outputs": [
    {
     "name": "stderr",
     "output_type": "stream",
     "text": [
      "<ipython-input-72-6f5c6094209c>:1: UserWarning:\n",
      "\n",
      "Boolean Series key will be reindexed to match DataFrame index.\n",
      "\n"
     ]
    },
    {
     "data": {
      "text/html": [
       "<div>\n",
       "<style scoped>\n",
       "    .dataframe tbody tr th:only-of-type {\n",
       "        vertical-align: middle;\n",
       "    }\n",
       "\n",
       "    .dataframe tbody tr th {\n",
       "        vertical-align: top;\n",
       "    }\n",
       "\n",
       "    .dataframe thead th {\n",
       "        text-align: right;\n",
       "    }\n",
       "</style>\n",
       "<table border=\"1\" class=\"dataframe\">\n",
       "  <thead>\n",
       "    <tr style=\"text-align: right;\">\n",
       "      <th></th>\n",
       "      <th>nama_kelurahan</th>\n",
       "      <th>Positif</th>\n",
       "      <th>Sembuh</th>\n",
       "      <th>Meninggal</th>\n",
       "      <th>cluster</th>\n",
       "    </tr>\n",
       "  </thead>\n",
       "  <tbody>\n",
       "    <tr>\n",
       "      <th>7</th>\n",
       "      <td>BATU AMPAR</td>\n",
       "      <td>3994</td>\n",
       "      <td>3778</td>\n",
       "      <td>77</td>\n",
       "      <td>0</td>\n",
       "    </tr>\n",
       "    <tr>\n",
       "      <th>9</th>\n",
       "      <td>BIDARA CINA</td>\n",
       "      <td>3152</td>\n",
       "      <td>2996</td>\n",
       "      <td>63</td>\n",
       "      <td>0</td>\n",
       "    </tr>\n",
       "    <tr>\n",
       "      <th>10</th>\n",
       "      <td>BINTARO</td>\n",
       "      <td>4096</td>\n",
       "      <td>3867</td>\n",
       "      <td>82</td>\n",
       "      <td>0</td>\n",
       "    </tr>\n",
       "    <tr>\n",
       "      <th>17</th>\n",
       "      <td>CEMPAKA BARU</td>\n",
       "      <td>3163</td>\n",
       "      <td>2989</td>\n",
       "      <td>66</td>\n",
       "      <td>0</td>\n",
       "    </tr>\n",
       "    <tr>\n",
       "      <th>18</th>\n",
       "      <td>CEMPAKA PUTIH BARAT</td>\n",
       "      <td>4288</td>\n",
       "      <td>4085</td>\n",
       "      <td>76</td>\n",
       "      <td>0</td>\n",
       "    </tr>\n",
       "    <tr>\n",
       "      <th>...</th>\n",
       "      <td>...</td>\n",
       "      <td>...</td>\n",
       "      <td>...</td>\n",
       "      <td>...</td>\n",
       "      <td>...</td>\n",
       "    </tr>\n",
       "    <tr>\n",
       "      <th>245</th>\n",
       "      <td>SUSUKAN</td>\n",
       "      <td>3375</td>\n",
       "      <td>3239</td>\n",
       "      <td>69</td>\n",
       "      <td>0</td>\n",
       "    </tr>\n",
       "    <tr>\n",
       "      <th>251</th>\n",
       "      <td>TANJUNG BARAT</td>\n",
       "      <td>3387</td>\n",
       "      <td>3183</td>\n",
       "      <td>56</td>\n",
       "      <td>0</td>\n",
       "    </tr>\n",
       "    <tr>\n",
       "      <th>257</th>\n",
       "      <td>TEGAL ALUR</td>\n",
       "      <td>4672</td>\n",
       "      <td>4485</td>\n",
       "      <td>80</td>\n",
       "      <td>0</td>\n",
       "    </tr>\n",
       "    <tr>\n",
       "      <th>263</th>\n",
       "      <td>ULUJAMI</td>\n",
       "      <td>3324</td>\n",
       "      <td>3177</td>\n",
       "      <td>55</td>\n",
       "      <td>0</td>\n",
       "    </tr>\n",
       "    <tr>\n",
       "      <th>264</th>\n",
       "      <td>UTAN KAYU SELATAN</td>\n",
       "      <td>3784</td>\n",
       "      <td>3612</td>\n",
       "      <td>72</td>\n",
       "      <td>0</td>\n",
       "    </tr>\n",
       "  </tbody>\n",
       "</table>\n",
       "<p>69 rows × 5 columns</p>\n",
       "</div>"
      ],
      "text/plain": [
       "          nama_kelurahan  Positif  Sembuh  Meninggal  cluster\n",
       "7             BATU AMPAR     3994    3778         77        0\n",
       "9            BIDARA CINA     3152    2996         63        0\n",
       "10               BINTARO     4096    3867         82        0\n",
       "17          CEMPAKA BARU     3163    2989         66        0\n",
       "18   CEMPAKA PUTIH BARAT     4288    4085         76        0\n",
       "..                   ...      ...     ...        ...      ...\n",
       "245              SUSUKAN     3375    3239         69        0\n",
       "251        TANJUNG BARAT     3387    3183         56        0\n",
       "257           TEGAL ALUR     4672    4485         80        0\n",
       "263              ULUJAMI     3324    3177         55        0\n",
       "264    UTAN KAYU SELATAN     3784    3612         72        0\n",
       "\n",
       "[69 rows x 5 columns]"
      ]
     },
     "execution_count": 72,
     "metadata": {},
     "output_type": "execute_result"
    }
   ],
   "source": [
    "cluster0 = df1[df.cluster == 0]\n",
    "cluster0"
   ]
  },
  {
   "cell_type": "code",
   "execution_count": 73,
   "id": "7b87ee4f",
   "metadata": {},
   "outputs": [
    {
     "name": "stderr",
     "output_type": "stream",
     "text": [
      "<ipython-input-73-a1d1c3fa9d73>:1: UserWarning:\n",
      "\n",
      "Boolean Series key will be reindexed to match DataFrame index.\n",
      "\n"
     ]
    },
    {
     "data": {
      "text/html": [
       "<div>\n",
       "<style scoped>\n",
       "    .dataframe tbody tr th:only-of-type {\n",
       "        vertical-align: middle;\n",
       "    }\n",
       "\n",
       "    .dataframe tbody tr th {\n",
       "        vertical-align: top;\n",
       "    }\n",
       "\n",
       "    .dataframe thead th {\n",
       "        text-align: right;\n",
       "    }\n",
       "</style>\n",
       "<table border=\"1\" class=\"dataframe\">\n",
       "  <thead>\n",
       "    <tr style=\"text-align: right;\">\n",
       "      <th></th>\n",
       "      <th>nama_kelurahan</th>\n",
       "      <th>Positif</th>\n",
       "      <th>Sembuh</th>\n",
       "      <th>Meninggal</th>\n",
       "      <th>cluster</th>\n",
       "    </tr>\n",
       "  </thead>\n",
       "  <tbody>\n",
       "    <tr>\n",
       "      <th>0</th>\n",
       "      <td>ANCOL</td>\n",
       "      <td>2031</td>\n",
       "      <td>1938</td>\n",
       "      <td>27</td>\n",
       "      <td>1</td>\n",
       "    </tr>\n",
       "    <tr>\n",
       "      <th>1</th>\n",
       "      <td>ANGKE</td>\n",
       "      <td>1950</td>\n",
       "      <td>1829</td>\n",
       "      <td>34</td>\n",
       "      <td>1</td>\n",
       "    </tr>\n",
       "    <tr>\n",
       "      <th>2</th>\n",
       "      <td>BALE KAMBANG</td>\n",
       "      <td>2194</td>\n",
       "      <td>2113</td>\n",
       "      <td>34</td>\n",
       "      <td>1</td>\n",
       "    </tr>\n",
       "    <tr>\n",
       "      <th>4</th>\n",
       "      <td>BAMBU APUS</td>\n",
       "      <td>3095</td>\n",
       "      <td>2998</td>\n",
       "      <td>31</td>\n",
       "      <td>1</td>\n",
       "    </tr>\n",
       "    <tr>\n",
       "      <th>5</th>\n",
       "      <td>BANGKA</td>\n",
       "      <td>2013</td>\n",
       "      <td>1936</td>\n",
       "      <td>28</td>\n",
       "      <td>1</td>\n",
       "    </tr>\n",
       "    <tr>\n",
       "      <th>...</th>\n",
       "      <td>...</td>\n",
       "      <td>...</td>\n",
       "      <td>...</td>\n",
       "      <td>...</td>\n",
       "      <td>...</td>\n",
       "    </tr>\n",
       "    <tr>\n",
       "      <th>262</th>\n",
       "      <td>UJUNG MENTENG</td>\n",
       "      <td>1868</td>\n",
       "      <td>1785</td>\n",
       "      <td>28</td>\n",
       "      <td>1</td>\n",
       "    </tr>\n",
       "    <tr>\n",
       "      <th>265</th>\n",
       "      <td>UTAN KAYU UTARA</td>\n",
       "      <td>2420</td>\n",
       "      <td>2271</td>\n",
       "      <td>60</td>\n",
       "      <td>1</td>\n",
       "    </tr>\n",
       "    <tr>\n",
       "      <th>266</th>\n",
       "      <td>UTAN PANJANG</td>\n",
       "      <td>2027</td>\n",
       "      <td>1954</td>\n",
       "      <td>36</td>\n",
       "      <td>1</td>\n",
       "    </tr>\n",
       "    <tr>\n",
       "      <th>267</th>\n",
       "      <td>WARAKAS</td>\n",
       "      <td>3059</td>\n",
       "      <td>2962</td>\n",
       "      <td>44</td>\n",
       "      <td>1</td>\n",
       "    </tr>\n",
       "    <tr>\n",
       "      <th>268</th>\n",
       "      <td>WIJAYA KUSUMA</td>\n",
       "      <td>3025</td>\n",
       "      <td>2848</td>\n",
       "      <td>48</td>\n",
       "      <td>1</td>\n",
       "    </tr>\n",
       "  </tbody>\n",
       "</table>\n",
       "<p>114 rows × 5 columns</p>\n",
       "</div>"
      ],
      "text/plain": [
       "      nama_kelurahan  Positif  Sembuh  Meninggal  cluster\n",
       "0              ANCOL     2031    1938         27        1\n",
       "1              ANGKE     1950    1829         34        1\n",
       "2       BALE KAMBANG     2194    2113         34        1\n",
       "4         BAMBU APUS     3095    2998         31        1\n",
       "5             BANGKA     2013    1936         28        1\n",
       "..               ...      ...     ...        ...      ...\n",
       "262    UJUNG MENTENG     1868    1785         28        1\n",
       "265  UTAN KAYU UTARA     2420    2271         60        1\n",
       "266     UTAN PANJANG     2027    1954         36        1\n",
       "267          WARAKAS     3059    2962         44        1\n",
       "268    WIJAYA KUSUMA     3025    2848         48        1\n",
       "\n",
       "[114 rows x 5 columns]"
      ]
     },
     "execution_count": 73,
     "metadata": {},
     "output_type": "execute_result"
    }
   ],
   "source": [
    "cluster1 = df1[df.cluster == 1]\n",
    "cluster1"
   ]
  },
  {
   "cell_type": "code",
   "execution_count": 74,
   "id": "c2372304",
   "metadata": {},
   "outputs": [
    {
     "name": "stderr",
     "output_type": "stream",
     "text": [
      "<ipython-input-74-40c4ba3ee475>:1: UserWarning:\n",
      "\n",
      "Boolean Series key will be reindexed to match DataFrame index.\n",
      "\n"
     ]
    },
    {
     "data": {
      "text/html": [
       "<div>\n",
       "<style scoped>\n",
       "    .dataframe tbody tr th:only-of-type {\n",
       "        vertical-align: middle;\n",
       "    }\n",
       "\n",
       "    .dataframe tbody tr th {\n",
       "        vertical-align: top;\n",
       "    }\n",
       "\n",
       "    .dataframe thead th {\n",
       "        text-align: right;\n",
       "    }\n",
       "</style>\n",
       "<table border=\"1\" class=\"dataframe\">\n",
       "  <thead>\n",
       "    <tr style=\"text-align: right;\">\n",
       "      <th></th>\n",
       "      <th>nama_kelurahan</th>\n",
       "      <th>Positif</th>\n",
       "      <th>Sembuh</th>\n",
       "      <th>Meninggal</th>\n",
       "      <th>cluster</th>\n",
       "    </tr>\n",
       "  </thead>\n",
       "  <tbody>\n",
       "    <tr>\n",
       "      <th>20</th>\n",
       "      <td>CENGKARENG BARAT</td>\n",
       "      <td>5869</td>\n",
       "      <td>5552</td>\n",
       "      <td>107</td>\n",
       "      <td>2</td>\n",
       "    </tr>\n",
       "    <tr>\n",
       "      <th>21</th>\n",
       "      <td>CENGKARENG TIMUR</td>\n",
       "      <td>6262</td>\n",
       "      <td>5952</td>\n",
       "      <td>108</td>\n",
       "      <td>2</td>\n",
       "    </tr>\n",
       "    <tr>\n",
       "      <th>42</th>\n",
       "      <td>CIPINANG MUARA</td>\n",
       "      <td>5017</td>\n",
       "      <td>4804</td>\n",
       "      <td>113</td>\n",
       "      <td>2</td>\n",
       "    </tr>\n",
       "    <tr>\n",
       "      <th>44</th>\n",
       "      <td>CIRACAS</td>\n",
       "      <td>5956</td>\n",
       "      <td>5717</td>\n",
       "      <td>113</td>\n",
       "      <td>2</td>\n",
       "    </tr>\n",
       "    <tr>\n",
       "      <th>46</th>\n",
       "      <td>DUREN SAWIT</td>\n",
       "      <td>5657</td>\n",
       "      <td>5389</td>\n",
       "      <td>109</td>\n",
       "      <td>2</td>\n",
       "    </tr>\n",
       "    <tr>\n",
       "      <th>70</th>\n",
       "      <td>JAGAKARSA</td>\n",
       "      <td>6794</td>\n",
       "      <td>6565</td>\n",
       "      <td>100</td>\n",
       "      <td>2</td>\n",
       "    </tr>\n",
       "    <tr>\n",
       "      <th>86</th>\n",
       "      <td>KALISARI</td>\n",
       "      <td>4547</td>\n",
       "      <td>4366</td>\n",
       "      <td>89</td>\n",
       "      <td>2</td>\n",
       "    </tr>\n",
       "    <tr>\n",
       "      <th>93</th>\n",
       "      <td>KAPUK</td>\n",
       "      <td>6800</td>\n",
       "      <td>6425</td>\n",
       "      <td>170</td>\n",
       "      <td>2</td>\n",
       "    </tr>\n",
       "    <tr>\n",
       "      <th>109</th>\n",
       "      <td>KEBON JERUK</td>\n",
       "      <td>5354</td>\n",
       "      <td>5079</td>\n",
       "      <td>87</td>\n",
       "      <td>2</td>\n",
       "    </tr>\n",
       "    <tr>\n",
       "      <th>130</th>\n",
       "      <td>KLENDER</td>\n",
       "      <td>4738</td>\n",
       "      <td>4507</td>\n",
       "      <td>107</td>\n",
       "      <td>2</td>\n",
       "    </tr>\n",
       "    <tr>\n",
       "      <th>166</th>\n",
       "      <td>PALMERAH</td>\n",
       "      <td>5706</td>\n",
       "      <td>5405</td>\n",
       "      <td>120</td>\n",
       "      <td>2</td>\n",
       "    </tr>\n",
       "    <tr>\n",
       "      <th>176</th>\n",
       "      <td>PEJAGALAN</td>\n",
       "      <td>6371</td>\n",
       "      <td>6025</td>\n",
       "      <td>79</td>\n",
       "      <td>2</td>\n",
       "    </tr>\n",
       "    <tr>\n",
       "      <th>178</th>\n",
       "      <td>PEJATEN TIMUR</td>\n",
       "      <td>3936</td>\n",
       "      <td>3724</td>\n",
       "      <td>93</td>\n",
       "      <td>2</td>\n",
       "    </tr>\n",
       "    <tr>\n",
       "      <th>183</th>\n",
       "      <td>PENGGILINGAN</td>\n",
       "      <td>5732</td>\n",
       "      <td>5501</td>\n",
       "      <td>107</td>\n",
       "      <td>2</td>\n",
       "    </tr>\n",
       "    <tr>\n",
       "      <th>197</th>\n",
       "      <td>PONDOK BAMBU</td>\n",
       "      <td>5739</td>\n",
       "      <td>5478</td>\n",
       "      <td>109</td>\n",
       "      <td>2</td>\n",
       "    </tr>\n",
       "    <tr>\n",
       "      <th>198</th>\n",
       "      <td>PONDOK KELAPA</td>\n",
       "      <td>5638</td>\n",
       "      <td>5350</td>\n",
       "      <td>98</td>\n",
       "      <td>2</td>\n",
       "    </tr>\n",
       "    <tr>\n",
       "      <th>212</th>\n",
       "      <td>PULO GEBANG</td>\n",
       "      <td>5252</td>\n",
       "      <td>5038</td>\n",
       "      <td>103</td>\n",
       "      <td>2</td>\n",
       "    </tr>\n",
       "    <tr>\n",
       "      <th>243</th>\n",
       "      <td>SUNTER AGUNG</td>\n",
       "      <td>6231</td>\n",
       "      <td>5817</td>\n",
       "      <td>111</td>\n",
       "      <td>2</td>\n",
       "    </tr>\n",
       "    <tr>\n",
       "      <th>244</th>\n",
       "      <td>SUNTER JAYA</td>\n",
       "      <td>6310</td>\n",
       "      <td>6027</td>\n",
       "      <td>101</td>\n",
       "      <td>2</td>\n",
       "    </tr>\n",
       "    <tr>\n",
       "      <th>261</th>\n",
       "      <td>TUGU UTARA</td>\n",
       "      <td>4512</td>\n",
       "      <td>4330</td>\n",
       "      <td>94</td>\n",
       "      <td>2</td>\n",
       "    </tr>\n",
       "  </tbody>\n",
       "</table>\n",
       "</div>"
      ],
      "text/plain": [
       "       nama_kelurahan  Positif  Sembuh  Meninggal  cluster\n",
       "20   CENGKARENG BARAT     5869    5552        107        2\n",
       "21   CENGKARENG TIMUR     6262    5952        108        2\n",
       "42     CIPINANG MUARA     5017    4804        113        2\n",
       "44            CIRACAS     5956    5717        113        2\n",
       "46        DUREN SAWIT     5657    5389        109        2\n",
       "70          JAGAKARSA     6794    6565        100        2\n",
       "86           KALISARI     4547    4366         89        2\n",
       "93              KAPUK     6800    6425        170        2\n",
       "109       KEBON JERUK     5354    5079         87        2\n",
       "130           KLENDER     4738    4507        107        2\n",
       "166          PALMERAH     5706    5405        120        2\n",
       "176         PEJAGALAN     6371    6025         79        2\n",
       "178     PEJATEN TIMUR     3936    3724         93        2\n",
       "183      PENGGILINGAN     5732    5501        107        2\n",
       "197      PONDOK BAMBU     5739    5478        109        2\n",
       "198     PONDOK KELAPA     5638    5350         98        2\n",
       "212       PULO GEBANG     5252    5038        103        2\n",
       "243      SUNTER AGUNG     6231    5817        111        2\n",
       "244       SUNTER JAYA     6310    6027        101        2\n",
       "261        TUGU UTARA     4512    4330         94        2"
      ]
     },
     "execution_count": 74,
     "metadata": {},
     "output_type": "execute_result"
    }
   ],
   "source": [
    "cluster2 = df1[df.cluster == 2]\n",
    "cluster2"
   ]
  },
  {
   "cell_type": "code",
   "execution_count": 77,
   "id": "f32810c2",
   "metadata": {},
   "outputs": [
    {
     "name": "stderr",
     "output_type": "stream",
     "text": [
      "<ipython-input-77-8dc1416662bc>:1: UserWarning:\n",
      "\n",
      "Boolean Series key will be reindexed to match DataFrame index.\n",
      "\n"
     ]
    },
    {
     "data": {
      "text/html": [
       "<div>\n",
       "<style scoped>\n",
       "    .dataframe tbody tr th:only-of-type {\n",
       "        vertical-align: middle;\n",
       "    }\n",
       "\n",
       "    .dataframe tbody tr th {\n",
       "        vertical-align: top;\n",
       "    }\n",
       "\n",
       "    .dataframe thead th {\n",
       "        text-align: right;\n",
       "    }\n",
       "</style>\n",
       "<table border=\"1\" class=\"dataframe\">\n",
       "  <thead>\n",
       "    <tr style=\"text-align: right;\">\n",
       "      <th></th>\n",
       "      <th>nama_kelurahan</th>\n",
       "      <th>Positif</th>\n",
       "      <th>Sembuh</th>\n",
       "      <th>Meninggal</th>\n",
       "      <th>cluster</th>\n",
       "    </tr>\n",
       "  </thead>\n",
       "  <tbody>\n",
       "    <tr>\n",
       "      <th>3</th>\n",
       "      <td>BALI MESTER</td>\n",
       "      <td>894</td>\n",
       "      <td>853</td>\n",
       "      <td>18</td>\n",
       "      <td>3</td>\n",
       "    </tr>\n",
       "    <tr>\n",
       "      <th>12</th>\n",
       "      <td>BUNGUR</td>\n",
       "      <td>1501</td>\n",
       "      <td>1425</td>\n",
       "      <td>26</td>\n",
       "      <td>3</td>\n",
       "    </tr>\n",
       "    <tr>\n",
       "      <th>26</th>\n",
       "      <td>CIKINI</td>\n",
       "      <td>777</td>\n",
       "      <td>708</td>\n",
       "      <td>15</td>\n",
       "      <td>3</td>\n",
       "    </tr>\n",
       "    <tr>\n",
       "      <th>27</th>\n",
       "      <td>CIKOKO</td>\n",
       "      <td>1206</td>\n",
       "      <td>1131</td>\n",
       "      <td>13</td>\n",
       "      <td>3</td>\n",
       "    </tr>\n",
       "    <tr>\n",
       "      <th>50</th>\n",
       "      <td>DURI PULO</td>\n",
       "      <td>1603</td>\n",
       "      <td>1472</td>\n",
       "      <td>29</td>\n",
       "      <td>3</td>\n",
       "    </tr>\n",
       "    <tr>\n",
       "      <th>...</th>\n",
       "      <td>...</td>\n",
       "      <td>...</td>\n",
       "      <td>...</td>\n",
       "      <td>...</td>\n",
       "      <td>...</td>\n",
       "    </tr>\n",
       "    <tr>\n",
       "      <th>234</th>\n",
       "      <td>SETU</td>\n",
       "      <td>2039</td>\n",
       "      <td>1966</td>\n",
       "      <td>14</td>\n",
       "      <td>3</td>\n",
       "    </tr>\n",
       "    <tr>\n",
       "      <th>246</th>\n",
       "      <td>TAMAN SARI</td>\n",
       "      <td>1533</td>\n",
       "      <td>1413</td>\n",
       "      <td>22</td>\n",
       "      <td>3</td>\n",
       "    </tr>\n",
       "    <tr>\n",
       "      <th>247</th>\n",
       "      <td>TAMBORA</td>\n",
       "      <td>889</td>\n",
       "      <td>793</td>\n",
       "      <td>22</td>\n",
       "      <td>3</td>\n",
       "    </tr>\n",
       "    <tr>\n",
       "      <th>248</th>\n",
       "      <td>TANAH SEREAL</td>\n",
       "      <td>2199</td>\n",
       "      <td>2020</td>\n",
       "      <td>23</td>\n",
       "      <td>3</td>\n",
       "    </tr>\n",
       "    <tr>\n",
       "      <th>250</th>\n",
       "      <td>TANGKI</td>\n",
       "      <td>1230</td>\n",
       "      <td>1148</td>\n",
       "      <td>19</td>\n",
       "      <td>3</td>\n",
       "    </tr>\n",
       "  </tbody>\n",
       "</table>\n",
       "<p>64 rows × 5 columns</p>\n",
       "</div>"
      ],
      "text/plain": [
       "    nama_kelurahan  Positif  Sembuh  Meninggal  cluster\n",
       "3      BALI MESTER      894     853         18        3\n",
       "12          BUNGUR     1501    1425         26        3\n",
       "26          CIKINI      777     708         15        3\n",
       "27          CIKOKO     1206    1131         13        3\n",
       "50       DURI PULO     1603    1472         29        3\n",
       "..             ...      ...     ...        ...      ...\n",
       "234           SETU     2039    1966         14        3\n",
       "246     TAMAN SARI     1533    1413         22        3\n",
       "247        TAMBORA      889     793         22        3\n",
       "248   TANAH SEREAL     2199    2020         23        3\n",
       "250         TANGKI     1230    1148         19        3\n",
       "\n",
       "[64 rows x 5 columns]"
      ]
     },
     "execution_count": 77,
     "metadata": {},
     "output_type": "execute_result"
    }
   ],
   "source": [
    "cluster3 = df1[df.cluster == 3]\n",
    "cluster3"
   ]
  }
 ],
 "metadata": {
  "kernelspec": {
   "display_name": "Python 3",
   "language": "python",
   "name": "python3"
  },
  "language_info": {
   "codemirror_mode": {
    "name": "ipython",
    "version": 3
   },
   "file_extension": ".py",
   "mimetype": "text/x-python",
   "name": "python",
   "nbconvert_exporter": "python",
   "pygments_lexer": "ipython3",
   "version": "3.8.8"
  }
 },
 "nbformat": 4,
 "nbformat_minor": 5
}
